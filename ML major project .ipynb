{
 "cells": [
  {
   "cell_type": "code",
   "execution_count": 3,
   "metadata": {},
   "outputs": [],
   "source": [
    "import numpy as np\n",
    "import pandas as pd"
   ]
  },
  {
   "cell_type": "code",
   "execution_count": 210,
   "metadata": {},
   "outputs": [
    {
     "data": {
      "text/html": [
       "<div>\n",
       "<style scoped>\n",
       "    .dataframe tbody tr th:only-of-type {\n",
       "        vertical-align: middle;\n",
       "    }\n",
       "\n",
       "    .dataframe tbody tr th {\n",
       "        vertical-align: top;\n",
       "    }\n",
       "\n",
       "    .dataframe thead th {\n",
       "        text-align: right;\n",
       "    }\n",
       "</style>\n",
       "<table border=\"1\" class=\"dataframe\">\n",
       "  <thead>\n",
       "    <tr style=\"text-align: right;\">\n",
       "      <th></th>\n",
       "      <th>Name</th>\n",
       "      <th>Location</th>\n",
       "      <th>Year</th>\n",
       "      <th>Kilometers_Driven</th>\n",
       "      <th>Fuel_Type</th>\n",
       "      <th>Transmission</th>\n",
       "      <th>Owner_Type</th>\n",
       "      <th>Mileage</th>\n",
       "      <th>Engine</th>\n",
       "      <th>Power</th>\n",
       "      <th>Seats</th>\n",
       "      <th>Price</th>\n",
       "    </tr>\n",
       "  </thead>\n",
       "  <tbody>\n",
       "    <tr>\n",
       "      <th>6014</th>\n",
       "      <td>Maruti Swift VDI</td>\n",
       "      <td>Delhi</td>\n",
       "      <td>2014</td>\n",
       "      <td>27365</td>\n",
       "      <td>Diesel</td>\n",
       "      <td>Manual</td>\n",
       "      <td>First</td>\n",
       "      <td>28.4 kmpl</td>\n",
       "      <td>1248 CC</td>\n",
       "      <td>74 bhp</td>\n",
       "      <td>5.0</td>\n",
       "      <td>4.75</td>\n",
       "    </tr>\n",
       "    <tr>\n",
       "      <th>6015</th>\n",
       "      <td>Hyundai Xcent 1.1 CRDi S</td>\n",
       "      <td>Jaipur</td>\n",
       "      <td>2015</td>\n",
       "      <td>100000</td>\n",
       "      <td>Diesel</td>\n",
       "      <td>Manual</td>\n",
       "      <td>First</td>\n",
       "      <td>24.4 kmpl</td>\n",
       "      <td>1120 CC</td>\n",
       "      <td>71 bhp</td>\n",
       "      <td>5.0</td>\n",
       "      <td>4.00</td>\n",
       "    </tr>\n",
       "    <tr>\n",
       "      <th>6016</th>\n",
       "      <td>Mahindra Xylo D4 BSIV</td>\n",
       "      <td>Jaipur</td>\n",
       "      <td>2012</td>\n",
       "      <td>55000</td>\n",
       "      <td>Diesel</td>\n",
       "      <td>Manual</td>\n",
       "      <td>Second</td>\n",
       "      <td>14.0 kmpl</td>\n",
       "      <td>2498 CC</td>\n",
       "      <td>112 bhp</td>\n",
       "      <td>8.0</td>\n",
       "      <td>2.90</td>\n",
       "    </tr>\n",
       "    <tr>\n",
       "      <th>6017</th>\n",
       "      <td>Maruti Wagon R VXI</td>\n",
       "      <td>Kolkata</td>\n",
       "      <td>2013</td>\n",
       "      <td>46000</td>\n",
       "      <td>Petrol</td>\n",
       "      <td>Manual</td>\n",
       "      <td>First</td>\n",
       "      <td>18.9 kmpl</td>\n",
       "      <td>998 CC</td>\n",
       "      <td>67.1 bhp</td>\n",
       "      <td>5.0</td>\n",
       "      <td>2.65</td>\n",
       "    </tr>\n",
       "    <tr>\n",
       "      <th>6018</th>\n",
       "      <td>Chevrolet Beat Diesel</td>\n",
       "      <td>Hyderabad</td>\n",
       "      <td>2011</td>\n",
       "      <td>47000</td>\n",
       "      <td>Diesel</td>\n",
       "      <td>Manual</td>\n",
       "      <td>First</td>\n",
       "      <td>25.44 kmpl</td>\n",
       "      <td>936 CC</td>\n",
       "      <td>57.6 bhp</td>\n",
       "      <td>5.0</td>\n",
       "      <td>2.50</td>\n",
       "    </tr>\n",
       "  </tbody>\n",
       "</table>\n",
       "</div>"
      ],
      "text/plain": [
       "                          Name   Location  Year  Kilometers_Driven Fuel_Type  \\\n",
       "6014          Maruti Swift VDI      Delhi  2014              27365    Diesel   \n",
       "6015  Hyundai Xcent 1.1 CRDi S     Jaipur  2015             100000    Diesel   \n",
       "6016     Mahindra Xylo D4 BSIV     Jaipur  2012              55000    Diesel   \n",
       "6017        Maruti Wagon R VXI    Kolkata  2013              46000    Petrol   \n",
       "6018     Chevrolet Beat Diesel  Hyderabad  2011              47000    Diesel   \n",
       "\n",
       "     Transmission Owner_Type     Mileage   Engine     Power  Seats  Price  \n",
       "6014       Manual      First   28.4 kmpl  1248 CC    74 bhp    5.0   4.75  \n",
       "6015       Manual      First   24.4 kmpl  1120 CC    71 bhp    5.0   4.00  \n",
       "6016       Manual     Second   14.0 kmpl  2498 CC   112 bhp    8.0   2.90  \n",
       "6017       Manual      First   18.9 kmpl   998 CC  67.1 bhp    5.0   2.65  \n",
       "6018       Manual      First  25.44 kmpl   936 CC  57.6 bhp    5.0   2.50  "
      ]
     },
     "execution_count": 210,
     "metadata": {},
     "output_type": "execute_result"
    }
   ],
   "source": [
    "tr=pd.read_excel(\"Data_Train (1).xlsx\")\n",
    "tr.head()\n",
    "tr.tail()"
   ]
  },
  {
   "cell_type": "code",
   "execution_count": 29,
   "metadata": {},
   "outputs": [
    {
     "data": {
      "text/plain": [
       "1876"
      ]
     },
     "execution_count": 29,
     "metadata": {},
     "output_type": "execute_result"
    }
   ],
   "source": [
    "tr.Name.nunique()"
   ]
  },
  {
   "cell_type": "code",
   "execution_count": 39,
   "metadata": {},
   "outputs": [
    {
     "data": {
      "text/html": [
       "<div>\n",
       "<style scoped>\n",
       "    .dataframe tbody tr th:only-of-type {\n",
       "        vertical-align: middle;\n",
       "    }\n",
       "\n",
       "    .dataframe tbody tr th {\n",
       "        vertical-align: top;\n",
       "    }\n",
       "\n",
       "    .dataframe thead th {\n",
       "        text-align: right;\n",
       "    }\n",
       "</style>\n",
       "<table border=\"1\" class=\"dataframe\">\n",
       "  <thead>\n",
       "    <tr style=\"text-align: right;\">\n",
       "      <th></th>\n",
       "      <th>Name</th>\n",
       "      <th>Location</th>\n",
       "      <th>Year</th>\n",
       "      <th>Kilometers_Driven</th>\n",
       "      <th>Fuel_Type</th>\n",
       "      <th>Transmission</th>\n",
       "      <th>Owner_Type</th>\n",
       "      <th>Mileage</th>\n",
       "      <th>Engine</th>\n",
       "      <th>Power</th>\n",
       "      <th>Seats</th>\n",
       "      <th>Price</th>\n",
       "    </tr>\n",
       "  </thead>\n",
       "  <tbody>\n",
       "    <tr>\n",
       "      <th>count</th>\n",
       "      <td>6019</td>\n",
       "      <td>6019</td>\n",
       "      <td>6019.000000</td>\n",
       "      <td>6018</td>\n",
       "      <td>6019</td>\n",
       "      <td>6019</td>\n",
       "      <td>6019</td>\n",
       "      <td>6017</td>\n",
       "      <td>5983</td>\n",
       "      <td>5983</td>\n",
       "      <td>5977.000000</td>\n",
       "      <td>6019.000000</td>\n",
       "    </tr>\n",
       "    <tr>\n",
       "      <th>unique</th>\n",
       "      <td>1876</td>\n",
       "      <td>11</td>\n",
       "      <td>NaN</td>\n",
       "      <td>1876</td>\n",
       "      <td>5</td>\n",
       "      <td>2</td>\n",
       "      <td>4</td>\n",
       "      <td>442</td>\n",
       "      <td>146</td>\n",
       "      <td>372</td>\n",
       "      <td>NaN</td>\n",
       "      <td>NaN</td>\n",
       "    </tr>\n",
       "    <tr>\n",
       "      <th>top</th>\n",
       "      <td>Mahindra XUV500 W8 2WD</td>\n",
       "      <td>Mumbai</td>\n",
       "      <td>NaN</td>\n",
       "      <td>Mahindra XUV500 W8 2WD</td>\n",
       "      <td>Diesel</td>\n",
       "      <td>Manual</td>\n",
       "      <td>First</td>\n",
       "      <td>18.9 kmpl</td>\n",
       "      <td>1197 CC</td>\n",
       "      <td>74 bhp</td>\n",
       "      <td>NaN</td>\n",
       "      <td>NaN</td>\n",
       "    </tr>\n",
       "    <tr>\n",
       "      <th>freq</th>\n",
       "      <td>49</td>\n",
       "      <td>790</td>\n",
       "      <td>NaN</td>\n",
       "      <td>49</td>\n",
       "      <td>3205</td>\n",
       "      <td>4299</td>\n",
       "      <td>4929</td>\n",
       "      <td>172</td>\n",
       "      <td>606</td>\n",
       "      <td>235</td>\n",
       "      <td>NaN</td>\n",
       "      <td>NaN</td>\n",
       "    </tr>\n",
       "    <tr>\n",
       "      <th>mean</th>\n",
       "      <td>NaN</td>\n",
       "      <td>NaN</td>\n",
       "      <td>2013.358199</td>\n",
       "      <td>NaN</td>\n",
       "      <td>NaN</td>\n",
       "      <td>NaN</td>\n",
       "      <td>NaN</td>\n",
       "      <td>NaN</td>\n",
       "      <td>NaN</td>\n",
       "      <td>NaN</td>\n",
       "      <td>5.278735</td>\n",
       "      <td>9.479468</td>\n",
       "    </tr>\n",
       "    <tr>\n",
       "      <th>std</th>\n",
       "      <td>NaN</td>\n",
       "      <td>NaN</td>\n",
       "      <td>3.269742</td>\n",
       "      <td>NaN</td>\n",
       "      <td>NaN</td>\n",
       "      <td>NaN</td>\n",
       "      <td>NaN</td>\n",
       "      <td>NaN</td>\n",
       "      <td>NaN</td>\n",
       "      <td>NaN</td>\n",
       "      <td>0.808840</td>\n",
       "      <td>11.187917</td>\n",
       "    </tr>\n",
       "    <tr>\n",
       "      <th>min</th>\n",
       "      <td>NaN</td>\n",
       "      <td>NaN</td>\n",
       "      <td>1998.000000</td>\n",
       "      <td>NaN</td>\n",
       "      <td>NaN</td>\n",
       "      <td>NaN</td>\n",
       "      <td>NaN</td>\n",
       "      <td>NaN</td>\n",
       "      <td>NaN</td>\n",
       "      <td>NaN</td>\n",
       "      <td>0.000000</td>\n",
       "      <td>0.440000</td>\n",
       "    </tr>\n",
       "    <tr>\n",
       "      <th>25%</th>\n",
       "      <td>NaN</td>\n",
       "      <td>NaN</td>\n",
       "      <td>2011.000000</td>\n",
       "      <td>NaN</td>\n",
       "      <td>NaN</td>\n",
       "      <td>NaN</td>\n",
       "      <td>NaN</td>\n",
       "      <td>NaN</td>\n",
       "      <td>NaN</td>\n",
       "      <td>NaN</td>\n",
       "      <td>5.000000</td>\n",
       "      <td>3.500000</td>\n",
       "    </tr>\n",
       "    <tr>\n",
       "      <th>50%</th>\n",
       "      <td>NaN</td>\n",
       "      <td>NaN</td>\n",
       "      <td>2014.000000</td>\n",
       "      <td>NaN</td>\n",
       "      <td>NaN</td>\n",
       "      <td>NaN</td>\n",
       "      <td>NaN</td>\n",
       "      <td>NaN</td>\n",
       "      <td>NaN</td>\n",
       "      <td>NaN</td>\n",
       "      <td>5.000000</td>\n",
       "      <td>5.640000</td>\n",
       "    </tr>\n",
       "    <tr>\n",
       "      <th>75%</th>\n",
       "      <td>NaN</td>\n",
       "      <td>NaN</td>\n",
       "      <td>2016.000000</td>\n",
       "      <td>NaN</td>\n",
       "      <td>NaN</td>\n",
       "      <td>NaN</td>\n",
       "      <td>NaN</td>\n",
       "      <td>NaN</td>\n",
       "      <td>NaN</td>\n",
       "      <td>NaN</td>\n",
       "      <td>5.000000</td>\n",
       "      <td>9.950000</td>\n",
       "    </tr>\n",
       "    <tr>\n",
       "      <th>max</th>\n",
       "      <td>NaN</td>\n",
       "      <td>NaN</td>\n",
       "      <td>2019.000000</td>\n",
       "      <td>NaN</td>\n",
       "      <td>NaN</td>\n",
       "      <td>NaN</td>\n",
       "      <td>NaN</td>\n",
       "      <td>NaN</td>\n",
       "      <td>NaN</td>\n",
       "      <td>NaN</td>\n",
       "      <td>10.000000</td>\n",
       "      <td>160.000000</td>\n",
       "    </tr>\n",
       "  </tbody>\n",
       "</table>\n",
       "</div>"
      ],
      "text/plain": [
       "                          Name Location         Year       Kilometers_Driven  \\\n",
       "count                     6019     6019  6019.000000                    6018   \n",
       "unique                    1876       11          NaN                    1876   \n",
       "top     Mahindra XUV500 W8 2WD   Mumbai          NaN  Mahindra XUV500 W8 2WD   \n",
       "freq                        49      790          NaN                      49   \n",
       "mean                       NaN      NaN  2013.358199                     NaN   \n",
       "std                        NaN      NaN     3.269742                     NaN   \n",
       "min                        NaN      NaN  1998.000000                     NaN   \n",
       "25%                        NaN      NaN  2011.000000                     NaN   \n",
       "50%                        NaN      NaN  2014.000000                     NaN   \n",
       "75%                        NaN      NaN  2016.000000                     NaN   \n",
       "max                        NaN      NaN  2019.000000                     NaN   \n",
       "\n",
       "       Fuel_Type Transmission Owner_Type    Mileage   Engine   Power  \\\n",
       "count       6019         6019       6019       6017     5983    5983   \n",
       "unique         5            2          4        442      146     372   \n",
       "top       Diesel       Manual      First  18.9 kmpl  1197 CC  74 bhp   \n",
       "freq        3205         4299       4929        172      606     235   \n",
       "mean         NaN          NaN        NaN        NaN      NaN     NaN   \n",
       "std          NaN          NaN        NaN        NaN      NaN     NaN   \n",
       "min          NaN          NaN        NaN        NaN      NaN     NaN   \n",
       "25%          NaN          NaN        NaN        NaN      NaN     NaN   \n",
       "50%          NaN          NaN        NaN        NaN      NaN     NaN   \n",
       "75%          NaN          NaN        NaN        NaN      NaN     NaN   \n",
       "max          NaN          NaN        NaN        NaN      NaN     NaN   \n",
       "\n",
       "              Seats        Price  \n",
       "count   5977.000000  6019.000000  \n",
       "unique          NaN          NaN  \n",
       "top             NaN          NaN  \n",
       "freq            NaN          NaN  \n",
       "mean       5.278735     9.479468  \n",
       "std        0.808840    11.187917  \n",
       "min        0.000000     0.440000  \n",
       "25%        5.000000     3.500000  \n",
       "50%        5.000000     5.640000  \n",
       "75%        5.000000     9.950000  \n",
       "max       10.000000   160.000000  "
      ]
     },
     "execution_count": 39,
     "metadata": {},
     "output_type": "execute_result"
    }
   ],
   "source": [
    "tr.describe(include=\"all\")"
   ]
  },
  {
   "cell_type": "code",
   "execution_count": 76,
   "metadata": {},
   "outputs": [
    {
     "data": {
      "text/html": [
       "<div>\n",
       "<style scoped>\n",
       "    .dataframe tbody tr th:only-of-type {\n",
       "        vertical-align: middle;\n",
       "    }\n",
       "\n",
       "    .dataframe tbody tr th {\n",
       "        vertical-align: top;\n",
       "    }\n",
       "\n",
       "    .dataframe thead th {\n",
       "        text-align: right;\n",
       "    }\n",
       "</style>\n",
       "<table border=\"1\" class=\"dataframe\">\n",
       "  <thead>\n",
       "    <tr style=\"text-align: right;\">\n",
       "      <th></th>\n",
       "      <th>Year</th>\n",
       "      <th>Kilometers_Driven</th>\n",
       "      <th>Seats</th>\n",
       "      <th>Price</th>\n",
       "    </tr>\n",
       "  </thead>\n",
       "  <tbody>\n",
       "    <tr>\n",
       "      <th>Year</th>\n",
       "      <td>1.000000</td>\n",
       "      <td>-0.448519</td>\n",
       "      <td>0.012399</td>\n",
       "      <td>0.305065</td>\n",
       "    </tr>\n",
       "    <tr>\n",
       "      <th>Kilometers_Driven</th>\n",
       "      <td>-0.448519</td>\n",
       "      <td>1.000000</td>\n",
       "      <td>0.210575</td>\n",
       "      <td>-0.168299</td>\n",
       "    </tr>\n",
       "    <tr>\n",
       "      <th>Seats</th>\n",
       "      <td>0.012399</td>\n",
       "      <td>0.210575</td>\n",
       "      <td>1.000000</td>\n",
       "      <td>0.052620</td>\n",
       "    </tr>\n",
       "    <tr>\n",
       "      <th>Price</th>\n",
       "      <td>0.305065</td>\n",
       "      <td>-0.168299</td>\n",
       "      <td>0.052620</td>\n",
       "      <td>1.000000</td>\n",
       "    </tr>\n",
       "  </tbody>\n",
       "</table>\n",
       "</div>"
      ],
      "text/plain": [
       "                       Year  Kilometers_Driven     Seats     Price\n",
       "Year               1.000000          -0.448519  0.012399  0.305065\n",
       "Kilometers_Driven -0.448519           1.000000  0.210575 -0.168299\n",
       "Seats              0.012399           0.210575  1.000000  0.052620\n",
       "Price              0.305065          -0.168299  0.052620  1.000000"
      ]
     },
     "execution_count": 76,
     "metadata": {},
     "output_type": "execute_result"
    }
   ],
   "source": [
    "tr.corr()"
   ]
  },
  {
   "cell_type": "code",
   "execution_count": 211,
   "metadata": {},
   "outputs": [],
   "source": [
    "n=tr[\"Name\"].str.split(\" \",n=1, expand=True)"
   ]
  },
  {
   "cell_type": "code",
   "execution_count": 212,
   "metadata": {},
   "outputs": [],
   "source": [
    "tr[\"Brand\"]=n[0]\n",
    "tr[\"Name\"]=n[1]"
   ]
  },
  {
   "cell_type": "code",
   "execution_count": 213,
   "metadata": {},
   "outputs": [
    {
     "data": {
      "text/html": [
       "<div>\n",
       "<style scoped>\n",
       "    .dataframe tbody tr th:only-of-type {\n",
       "        vertical-align: middle;\n",
       "    }\n",
       "\n",
       "    .dataframe tbody tr th {\n",
       "        vertical-align: top;\n",
       "    }\n",
       "\n",
       "    .dataframe thead th {\n",
       "        text-align: right;\n",
       "    }\n",
       "</style>\n",
       "<table border=\"1\" class=\"dataframe\">\n",
       "  <thead>\n",
       "    <tr style=\"text-align: right;\">\n",
       "      <th></th>\n",
       "      <th>Name</th>\n",
       "      <th>Location</th>\n",
       "      <th>Year</th>\n",
       "      <th>Kilometers_Driven</th>\n",
       "      <th>Fuel_Type</th>\n",
       "      <th>Transmission</th>\n",
       "      <th>Owner_Type</th>\n",
       "      <th>Mileage</th>\n",
       "      <th>Engine</th>\n",
       "      <th>Power</th>\n",
       "      <th>Seats</th>\n",
       "      <th>Price</th>\n",
       "      <th>Brand</th>\n",
       "    </tr>\n",
       "  </thead>\n",
       "  <tbody>\n",
       "    <tr>\n",
       "      <th>0</th>\n",
       "      <td>Wagon R LXI CNG</td>\n",
       "      <td>Mumbai</td>\n",
       "      <td>2010</td>\n",
       "      <td>72000</td>\n",
       "      <td>CNG</td>\n",
       "      <td>Manual</td>\n",
       "      <td>First</td>\n",
       "      <td>26.6 km/kg</td>\n",
       "      <td>998 CC</td>\n",
       "      <td>58.16 bhp</td>\n",
       "      <td>5.0</td>\n",
       "      <td>1.75</td>\n",
       "      <td>Maruti</td>\n",
       "    </tr>\n",
       "    <tr>\n",
       "      <th>1</th>\n",
       "      <td>Creta 1.6 CRDi SX Option</td>\n",
       "      <td>Pune</td>\n",
       "      <td>2015</td>\n",
       "      <td>41000</td>\n",
       "      <td>Diesel</td>\n",
       "      <td>Manual</td>\n",
       "      <td>First</td>\n",
       "      <td>19.67 kmpl</td>\n",
       "      <td>1582 CC</td>\n",
       "      <td>126.2 bhp</td>\n",
       "      <td>5.0</td>\n",
       "      <td>12.50</td>\n",
       "      <td>Hyundai</td>\n",
       "    </tr>\n",
       "    <tr>\n",
       "      <th>2</th>\n",
       "      <td>Jazz V</td>\n",
       "      <td>Chennai</td>\n",
       "      <td>2011</td>\n",
       "      <td>46000</td>\n",
       "      <td>Petrol</td>\n",
       "      <td>Manual</td>\n",
       "      <td>First</td>\n",
       "      <td>18.2 kmpl</td>\n",
       "      <td>1199 CC</td>\n",
       "      <td>88.7 bhp</td>\n",
       "      <td>5.0</td>\n",
       "      <td>4.50</td>\n",
       "      <td>Honda</td>\n",
       "    </tr>\n",
       "    <tr>\n",
       "      <th>3</th>\n",
       "      <td>Ertiga VDI</td>\n",
       "      <td>Chennai</td>\n",
       "      <td>2012</td>\n",
       "      <td>87000</td>\n",
       "      <td>Diesel</td>\n",
       "      <td>Manual</td>\n",
       "      <td>First</td>\n",
       "      <td>20.77 kmpl</td>\n",
       "      <td>1248 CC</td>\n",
       "      <td>88.76 bhp</td>\n",
       "      <td>7.0</td>\n",
       "      <td>6.00</td>\n",
       "      <td>Maruti</td>\n",
       "    </tr>\n",
       "    <tr>\n",
       "      <th>4</th>\n",
       "      <td>A4 New 2.0 TDI Multitronic</td>\n",
       "      <td>Coimbatore</td>\n",
       "      <td>2013</td>\n",
       "      <td>40670</td>\n",
       "      <td>Diesel</td>\n",
       "      <td>Automatic</td>\n",
       "      <td>Second</td>\n",
       "      <td>15.2 kmpl</td>\n",
       "      <td>1968 CC</td>\n",
       "      <td>140.8 bhp</td>\n",
       "      <td>5.0</td>\n",
       "      <td>17.74</td>\n",
       "      <td>Audi</td>\n",
       "    </tr>\n",
       "  </tbody>\n",
       "</table>\n",
       "</div>"
      ],
      "text/plain": [
       "                         Name    Location  Year  Kilometers_Driven Fuel_Type  \\\n",
       "0             Wagon R LXI CNG      Mumbai  2010              72000       CNG   \n",
       "1    Creta 1.6 CRDi SX Option        Pune  2015              41000    Diesel   \n",
       "2                      Jazz V     Chennai  2011              46000    Petrol   \n",
       "3                  Ertiga VDI     Chennai  2012              87000    Diesel   \n",
       "4  A4 New 2.0 TDI Multitronic  Coimbatore  2013              40670    Diesel   \n",
       "\n",
       "  Transmission Owner_Type     Mileage   Engine      Power  Seats  Price  \\\n",
       "0       Manual      First  26.6 km/kg   998 CC  58.16 bhp    5.0   1.75   \n",
       "1       Manual      First  19.67 kmpl  1582 CC  126.2 bhp    5.0  12.50   \n",
       "2       Manual      First   18.2 kmpl  1199 CC   88.7 bhp    5.0   4.50   \n",
       "3       Manual      First  20.77 kmpl  1248 CC  88.76 bhp    7.0   6.00   \n",
       "4    Automatic     Second   15.2 kmpl  1968 CC  140.8 bhp    5.0  17.74   \n",
       "\n",
       "     Brand  \n",
       "0   Maruti  \n",
       "1  Hyundai  \n",
       "2    Honda  \n",
       "3   Maruti  \n",
       "4     Audi  "
      ]
     },
     "execution_count": 213,
     "metadata": {},
     "output_type": "execute_result"
    }
   ],
   "source": [
    "tr.head()"
   ]
  },
  {
   "cell_type": "code",
   "execution_count": 214,
   "metadata": {},
   "outputs": [
    {
     "data": {
      "text/plain": [
       "<matplotlib.axes._subplots.AxesSubplot at 0x21b265c2148>"
      ]
     },
     "execution_count": 214,
     "metadata": {},
     "output_type": "execute_result"
    },
    {
     "data": {
      "image/png": "[encoded data removed]",
      "text/plain": [
       "<Figure size 432x288 with 1 Axes>"
      ]
     },
     "metadata": {
      "needs_background": "light"
     },
     "output_type": "display_data"
    }
   ],
   "source": [
    "tr.Brand.value_counts().plot(kind=\"bar\")                           "
   ]
  },
  {
   "cell_type": "markdown",
   "metadata": {},
   "source": [
    "Maruti and Hyundai have the maximum number of cars"
   ]
  },
  {
   "cell_type": "code",
   "execution_count": 112,
   "metadata": {},
   "outputs": [
    {
     "data": {
      "text/plain": [
       "<matplotlib.axes._subplots.AxesSubplot at 0x21b6fe82308>"
      ]
     },
     "execution_count": 112,
     "metadata": {},
     "output_type": "execute_result"
    },
    {
     "data": {
      "image/png": "[encoded data removed]",
      "text/plain": [
       "<Figure size 432x288 with 1 Axes>"
      ]
     },
     "metadata": {
      "needs_background": "light"
     },
     "output_type": "display_data"
    }
   ],
   "source": [
    "tr.Year.value_counts().plot(kind=\"bar\")       "
   ]
  },
  {
   "cell_type": "markdown",
   "metadata": {},
   "source": [
    "Most cars listed for sale are after 2010 "
   ]
  },
  {
   "cell_type": "code",
   "execution_count": 114,
   "metadata": {},
   "outputs": [
    {
     "data": {
      "text/plain": [
       "<matplotlib.axes._subplots.AxesSubplot at 0x21b6fcb4788>"
      ]
     },
     "execution_count": 114,
     "metadata": {},
     "output_type": "execute_result"
    },
    {
     "data": {
      "image/png": "[encoded data removed]",
      "text/plain": [
       "<Figure size 432x288 with 1 Axes>"
      ]
     },
     "metadata": {
      "needs_background": "light"
     },
     "output_type": "display_data"
    }
   ],
   "source": [
    "tr.Location.value_counts().plot(kind=\"bar\") "
   ]
  },
  {
   "cell_type": "code",
   "execution_count": 97,
   "metadata": {},
   "outputs": [
    {
     "data": {
      "text/plain": [
       "Brand\n",
       "Ambassador         1.35\n",
       "Audi              72.94\n",
       "BMW               93.67\n",
       "Bentley           59.00\n",
       "Chevrolet          9.87\n",
       "Datsun             3.95\n",
       "Fiat               7.71\n",
       "Force             12.00\n",
       "Ford              56.80\n",
       "Honda             17.50\n",
       "Hyundai           23.00\n",
       "ISUZU             16.09\n",
       "Isuzu             20.00\n",
       "Jaguar           100.00\n",
       "Jeep              23.91\n",
       "Lamborghini      120.00\n",
       "Land             160.00\n",
       "Mahindra          17.63\n",
       "Maruti            11.50\n",
       "Mercedes-Benz     90.00\n",
       "Mini              39.75\n",
       "Mitsubishi        28.00\n",
       "Nissan             8.92\n",
       "Porsche           75.00\n",
       "Renault           14.01\n",
       "Skoda             27.30\n",
       "Smart              3.00\n",
       "Tata              17.85\n",
       "Toyota            35.82\n",
       "Volkswagen        24.90\n",
       "Volvo             32.50\n",
       "Name: Price, dtype: float64"
      ]
     },
     "execution_count": 97,
     "metadata": {},
     "output_type": "execute_result"
    }
   ],
   "source": [
    "tr.groupby(['Brand']).Price.max()"
   ]
  },
  {
   "cell_type": "code",
   "execution_count": 96,
   "metadata": {},
   "outputs": [
    {
     "data": {
      "text/plain": [
       "Brand\n",
       "Ambassador         1.35\n",
       "Audi               7.50\n",
       "BMW                6.30\n",
       "Bentley           59.00\n",
       "Chevrolet          0.75\n",
       "Datsun             2.25\n",
       "Fiat               0.55\n",
       "Force              8.00\n",
       "Ford               0.69\n",
       "Honda              0.90\n",
       "Hyundai            0.45\n",
       "ISUZU              8.00\n",
       "Isuzu             20.00\n",
       "Jaguar            16.00\n",
       "Jeep              15.00\n",
       "Lamborghini      120.00\n",
       "Land              11.00\n",
       "Mahindra           1.50\n",
       "Maruti             0.45\n",
       "Mercedes-Benz      3.90\n",
       "Mini              17.00\n",
       "Mitsubishi         1.00\n",
       "Nissan             1.75\n",
       "Porsche            2.02\n",
       "Renault            2.40\n",
       "Skoda              1.25\n",
       "Smart              3.00\n",
       "Tata               0.44\n",
       "Toyota             1.50\n",
       "Volkswagen         2.10\n",
       "Volvo              7.25\n",
       "Name: Price, dtype: float64"
      ]
     },
     "execution_count": 96,
     "metadata": {},
     "output_type": "execute_result"
    }
   ],
   "source": [
    "tr.groupby(['Brand']).Price.min()"
   ]
  },
  {
   "cell_type": "code",
   "execution_count": 215,
   "metadata": {},
   "outputs": [
    {
     "data": {
      "text/html": [
       "<div>\n",
       "<style scoped>\n",
       "    .dataframe tbody tr th:only-of-type {\n",
       "        vertical-align: middle;\n",
       "    }\n",
       "\n",
       "    .dataframe tbody tr th {\n",
       "        vertical-align: top;\n",
       "    }\n",
       "\n",
       "    .dataframe thead th {\n",
       "        text-align: right;\n",
       "    }\n",
       "</style>\n",
       "<table border=\"1\" class=\"dataframe\">\n",
       "  <thead>\n",
       "    <tr style=\"text-align: right;\">\n",
       "      <th></th>\n",
       "      <th>Name</th>\n",
       "      <th>Location</th>\n",
       "      <th>Year</th>\n",
       "      <th>Kilometers_Driven</th>\n",
       "      <th>Fuel_Type</th>\n",
       "      <th>Transmission</th>\n",
       "      <th>Owner_Type</th>\n",
       "      <th>Mileage</th>\n",
       "      <th>Engine</th>\n",
       "      <th>Power</th>\n",
       "      <th>Seats</th>\n",
       "      <th>Price</th>\n",
       "      <th>Brand</th>\n",
       "    </tr>\n",
       "  </thead>\n",
       "  <tbody>\n",
       "    <tr>\n",
       "      <th>0</th>\n",
       "      <td>Wagon R LXI CNG</td>\n",
       "      <td>Mumbai</td>\n",
       "      <td>2010</td>\n",
       "      <td>72000</td>\n",
       "      <td>CNG</td>\n",
       "      <td>Manual</td>\n",
       "      <td>First</td>\n",
       "      <td>26.60</td>\n",
       "      <td>998.0</td>\n",
       "      <td>58.16</td>\n",
       "      <td>5.0</td>\n",
       "      <td>1.75</td>\n",
       "      <td>Maruti</td>\n",
       "    </tr>\n",
       "    <tr>\n",
       "      <th>1</th>\n",
       "      <td>Creta 1.6 CRDi SX Option</td>\n",
       "      <td>Pune</td>\n",
       "      <td>2015</td>\n",
       "      <td>41000</td>\n",
       "      <td>Diesel</td>\n",
       "      <td>Manual</td>\n",
       "      <td>First</td>\n",
       "      <td>19.67</td>\n",
       "      <td>1582.0</td>\n",
       "      <td>126.20</td>\n",
       "      <td>5.0</td>\n",
       "      <td>12.50</td>\n",
       "      <td>Hyundai</td>\n",
       "    </tr>\n",
       "  </tbody>\n",
       "</table>\n",
       "</div>"
      ],
      "text/plain": [
       "                       Name Location  Year  Kilometers_Driven Fuel_Type  \\\n",
       "0           Wagon R LXI CNG   Mumbai  2010              72000       CNG   \n",
       "1  Creta 1.6 CRDi SX Option     Pune  2015              41000    Diesel   \n",
       "\n",
       "  Transmission Owner_Type  Mileage  Engine   Power  Seats  Price    Brand  \n",
       "0       Manual      First    26.60   998.0   58.16    5.0   1.75   Maruti  \n",
       "1       Manual      First    19.67  1582.0  126.20    5.0  12.50  Hyundai  "
      ]
     },
     "execution_count": 215,
     "metadata": {},
     "output_type": "execute_result"
    }
   ],
   "source": [
    "tr['Mileage'] = tr['Mileage'].apply(lambda x : str(x).split(' ')[0]).astype(float)\n",
    "tr['Engine'] = tr['Engine'].apply(lambda x : str(x).split(\" \")[0]).astype(float)\n",
    "tr['Power'] = tr['Power'].replace('null bhp','0 bhp').apply(lambda x : str(x).split(' ')[0]).astype(float)\n",
    "tr.head(2)\n"
   ]
  },
  {
   "cell_type": "code",
   "execution_count": 216,
   "metadata": {},
   "outputs": [
    {
     "data": {
      "text/plain": [
       "Manual       4299\n",
       "Automatic    1720\n",
       "Name: Transmission, dtype: int64"
      ]
     },
     "execution_count": 216,
     "metadata": {},
     "output_type": "execute_result"
    }
   ],
   "source": [
    "tr.Transmission.value_counts()  "
   ]
  },
  {
   "cell_type": "markdown",
   "metadata": {},
   "source": [
    "There are more manual transmission cars"
   ]
  },
  {
   "cell_type": "code",
   "execution_count": 217,
   "metadata": {},
   "outputs": [
    {
     "data": {
      "text/plain": [
       "Diesel      3205\n",
       "Petrol      2746\n",
       "CNG           56\n",
       "LPG           10\n",
       "Electric       2\n",
       "Name: Fuel_Type, dtype: int64"
      ]
     },
     "execution_count": 217,
     "metadata": {},
     "output_type": "execute_result"
    }
   ],
   "source": [
    "tr.Fuel_Type.value_counts()"
   ]
  },
  {
   "cell_type": "markdown",
   "metadata": {},
   "source": [
    "Maximum cars are petrol and diesel powered, maximum cars are of diesel fuel type."
   ]
  },
  {
   "cell_type": "code",
   "execution_count": 218,
   "metadata": {},
   "outputs": [
    {
     "data": {
      "text/plain": [
       "5.0     5014\n",
       "7.0      674\n",
       "8.0      134\n",
       "4.0       99\n",
       "6.0       31\n",
       "2.0       16\n",
       "10.0       5\n",
       "9.0        3\n",
       "0.0        1\n",
       "Name: Seats, dtype: int64"
      ]
     },
     "execution_count": 218,
     "metadata": {},
     "output_type": "execute_result"
    }
   ],
   "source": [
    "tr.Seats.value_counts()"
   ]
  },
  {
   "cell_type": "markdown",
   "metadata": {},
   "source": [
    "Maximum cars are 5 seater"
   ]
  },
  {
   "cell_type": "code",
   "execution_count": 219,
   "metadata": {},
   "outputs": [
    {
     "data": {
      "text/plain": [
       "Name                  0\n",
       "Location              0\n",
       "Year                  0\n",
       "Kilometers_Driven     0\n",
       "Fuel_Type             0\n",
       "Transmission          0\n",
       "Owner_Type            0\n",
       "Mileage               2\n",
       "Engine               36\n",
       "Power                36\n",
       "Seats                42\n",
       "Price                 0\n",
       "Brand                 0\n",
       "dtype: int64"
      ]
     },
     "execution_count": 219,
     "metadata": {},
     "output_type": "execute_result"
    }
   ],
   "source": [
    "tr.isnull().sum()"
   ]
  },
  {
   "cell_type": "markdown",
   "metadata": {},
   "source": [
    "**Preprocessing Outlier Points and Imputing null values**"
   ]
  },
  {
   "cell_type": "code",
   "execution_count": 220,
   "metadata": {},
   "outputs": [
    {
     "data": {
      "text/html": [
       "<div>\n",
       "<style scoped>\n",
       "    .dataframe tbody tr th:only-of-type {\n",
       "        vertical-align: middle;\n",
       "    }\n",
       "\n",
       "    .dataframe tbody tr th {\n",
       "        vertical-align: top;\n",
       "    }\n",
       "\n",
       "    .dataframe thead th {\n",
       "        text-align: right;\n",
       "    }\n",
       "</style>\n",
       "<table border=\"1\" class=\"dataframe\">\n",
       "  <thead>\n",
       "    <tr style=\"text-align: right;\">\n",
       "      <th></th>\n",
       "      <th>Name</th>\n",
       "      <th>Location</th>\n",
       "      <th>Year</th>\n",
       "      <th>Kilometers_Driven</th>\n",
       "      <th>Fuel_Type</th>\n",
       "      <th>Transmission</th>\n",
       "      <th>Owner_Type</th>\n",
       "      <th>Mileage</th>\n",
       "      <th>Engine</th>\n",
       "      <th>Power</th>\n",
       "      <th>Seats</th>\n",
       "      <th>Price</th>\n",
       "      <th>Brand</th>\n",
       "    </tr>\n",
       "  </thead>\n",
       "  <tbody>\n",
       "    <tr>\n",
       "      <th>2328</th>\n",
       "      <td>X5 xDrive 30d M Sport</td>\n",
       "      <td>Chennai</td>\n",
       "      <td>2017</td>\n",
       "      <td>6500000</td>\n",
       "      <td>Diesel</td>\n",
       "      <td>Automatic</td>\n",
       "      <td>First</td>\n",
       "      <td>15.97</td>\n",
       "      <td>2993.0</td>\n",
       "      <td>258.0</td>\n",
       "      <td>5.0</td>\n",
       "      <td>65.0</td>\n",
       "      <td>BMW</td>\n",
       "    </tr>\n",
       "  </tbody>\n",
       "</table>\n",
       "</div>"
      ],
      "text/plain": [
       "                       Name Location  Year  Kilometers_Driven Fuel_Type  \\\n",
       "2328  X5 xDrive 30d M Sport  Chennai  2017            6500000    Diesel   \n",
       "\n",
       "     Transmission Owner_Type  Mileage  Engine  Power  Seats  Price Brand  \n",
       "2328    Automatic      First    15.97  2993.0  258.0    5.0   65.0   BMW  "
      ]
     },
     "execution_count": 220,
     "metadata": {},
     "output_type": "execute_result"
    }
   ],
   "source": [
    "tr[tr[\"Kilometers_Driven\"]>1000000]"
   ]
  },
  {
   "cell_type": "code",
   "execution_count": 221,
   "metadata": {},
   "outputs": [],
   "source": [
    "tr=tr.drop(tr.index[2328])\n",
    "#removing the outlier point"
   ]
  },
  {
   "cell_type": "code",
   "execution_count": 222,
   "metadata": {},
   "outputs": [
    {
     "data": {
      "text/html": [
       "<div>\n",
       "<style scoped>\n",
       "    .dataframe tbody tr th:only-of-type {\n",
       "        vertical-align: middle;\n",
       "    }\n",
       "\n",
       "    .dataframe tbody tr th {\n",
       "        vertical-align: top;\n",
       "    }\n",
       "\n",
       "    .dataframe thead th {\n",
       "        text-align: right;\n",
       "    }\n",
       "</style>\n",
       "<table border=\"1\" class=\"dataframe\">\n",
       "  <thead>\n",
       "    <tr style=\"text-align: right;\">\n",
       "      <th></th>\n",
       "      <th>Name</th>\n",
       "      <th>Location</th>\n",
       "      <th>Year</th>\n",
       "      <th>Kilometers_Driven</th>\n",
       "      <th>Fuel_Type</th>\n",
       "      <th>Transmission</th>\n",
       "      <th>Owner_Type</th>\n",
       "      <th>Mileage</th>\n",
       "      <th>Engine</th>\n",
       "      <th>Power</th>\n",
       "      <th>Seats</th>\n",
       "      <th>Price</th>\n",
       "      <th>Brand</th>\n",
       "    </tr>\n",
       "  </thead>\n",
       "  <tbody>\n",
       "    <tr>\n",
       "      <th>3999</th>\n",
       "      <td>A4 3.2 FSI Tiptronic Quattro</td>\n",
       "      <td>Hyderabad</td>\n",
       "      <td>2012</td>\n",
       "      <td>125000</td>\n",
       "      <td>Petrol</td>\n",
       "      <td>Automatic</td>\n",
       "      <td>First</td>\n",
       "      <td>10.5</td>\n",
       "      <td>3197.0</td>\n",
       "      <td>0.0</td>\n",
       "      <td>0.0</td>\n",
       "      <td>18.0</td>\n",
       "      <td>Audi</td>\n",
       "    </tr>\n",
       "  </tbody>\n",
       "</table>\n",
       "</div>"
      ],
      "text/plain": [
       "                              Name   Location  Year  Kilometers_Driven  \\\n",
       "3999  A4 3.2 FSI Tiptronic Quattro  Hyderabad  2012             125000   \n",
       "\n",
       "     Fuel_Type Transmission Owner_Type  Mileage  Engine  Power  Seats  Price  \\\n",
       "3999    Petrol    Automatic      First     10.5  3197.0    0.0    0.0   18.0   \n",
       "\n",
       "     Brand  \n",
       "3999  Audi  "
      ]
     },
     "execution_count": 222,
     "metadata": {},
     "output_type": "execute_result"
    }
   ],
   "source": [
    "tr['Seats'] = tr['Seats'].fillna(5)\n",
    "#imputing null value with mode\n",
    "tr[tr['Seats']==0]"
   ]
  },
  {
   "cell_type": "code",
   "execution_count": 223,
   "metadata": {},
   "outputs": [],
   "source": [
    "tr=tr.drop(tr.index[3999])\n",
    "#removing the outlier point"
   ]
  },
  {
   "cell_type": "code",
   "execution_count": 224,
   "metadata": {},
   "outputs": [
    {
     "data": {
      "text/html": [
       "<div>\n",
       "<style scoped>\n",
       "    .dataframe tbody tr th:only-of-type {\n",
       "        vertical-align: middle;\n",
       "    }\n",
       "\n",
       "    .dataframe tbody tr th {\n",
       "        vertical-align: top;\n",
       "    }\n",
       "\n",
       "    .dataframe thead th {\n",
       "        text-align: right;\n",
       "    }\n",
       "</style>\n",
       "<table border=\"1\" class=\"dataframe\">\n",
       "  <thead>\n",
       "    <tr style=\"text-align: right;\">\n",
       "      <th></th>\n",
       "      <th>Name</th>\n",
       "      <th>Location</th>\n",
       "      <th>Year</th>\n",
       "      <th>Kilometers_Driven</th>\n",
       "      <th>Fuel_Type</th>\n",
       "      <th>Transmission</th>\n",
       "      <th>Owner_Type</th>\n",
       "      <th>Mileage</th>\n",
       "      <th>Engine</th>\n",
       "      <th>Power</th>\n",
       "      <th>Seats</th>\n",
       "      <th>Price</th>\n",
       "      <th>Brand</th>\n",
       "    </tr>\n",
       "  </thead>\n",
       "  <tbody>\n",
       "    <tr>\n",
       "      <th>4446</th>\n",
       "      <td>E Verito D4</td>\n",
       "      <td>Chennai</td>\n",
       "      <td>2016</td>\n",
       "      <td>50000</td>\n",
       "      <td>Electric</td>\n",
       "      <td>Automatic</td>\n",
       "      <td>First</td>\n",
       "      <td>NaN</td>\n",
       "      <td>72.0</td>\n",
       "      <td>41.0</td>\n",
       "      <td>5.0</td>\n",
       "      <td>13.00</td>\n",
       "      <td>Mahindra</td>\n",
       "    </tr>\n",
       "    <tr>\n",
       "      <th>4904</th>\n",
       "      <td>Prius 2009-2016 Z4</td>\n",
       "      <td>Mumbai</td>\n",
       "      <td>2011</td>\n",
       "      <td>44000</td>\n",
       "      <td>Electric</td>\n",
       "      <td>Automatic</td>\n",
       "      <td>First</td>\n",
       "      <td>NaN</td>\n",
       "      <td>1798.0</td>\n",
       "      <td>73.0</td>\n",
       "      <td>5.0</td>\n",
       "      <td>12.75</td>\n",
       "      <td>Toyota</td>\n",
       "    </tr>\n",
       "  </tbody>\n",
       "</table>\n",
       "</div>"
      ],
      "text/plain": [
       "                    Name Location  Year  Kilometers_Driven Fuel_Type  \\\n",
       "4446         E Verito D4  Chennai  2016              50000  Electric   \n",
       "4904  Prius 2009-2016 Z4   Mumbai  2011              44000  Electric   \n",
       "\n",
       "     Transmission Owner_Type  Mileage  Engine  Power  Seats  Price     Brand  \n",
       "4446    Automatic      First      NaN    72.0   41.0    5.0  13.00  Mahindra  \n",
       "4904    Automatic      First      NaN  1798.0   73.0    5.0  12.75    Toyota  "
      ]
     },
     "execution_count": 224,
     "metadata": {},
     "output_type": "execute_result"
    }
   ],
   "source": [
    "tr[tr.Mileage.isnull()]\n",
    "#There are just two electric cars in our dataset and they generate a null value in Mileage so we drop these rows"
   ]
  },
  {
   "cell_type": "code",
   "execution_count": 225,
   "metadata": {},
   "outputs": [],
   "source": [
    "tr = tr[tr['Fuel_Type'] != 'Electric']"
   ]
  },
  {
   "cell_type": "code",
   "execution_count": 226,
   "metadata": {},
   "outputs": [
    {
     "data": {
      "text/plain": [
       "(6015, 13)"
      ]
     },
     "execution_count": 226,
     "metadata": {},
     "output_type": "execute_result"
    }
   ],
   "source": [
    "tr.shape"
   ]
  },
  {
   "cell_type": "code",
   "execution_count": 227,
   "metadata": {},
   "outputs": [
    {
     "data": {
      "text/html": [
       "<div>\n",
       "<style scoped>\n",
       "    .dataframe tbody tr th:only-of-type {\n",
       "        vertical-align: middle;\n",
       "    }\n",
       "\n",
       "    .dataframe tbody tr th {\n",
       "        vertical-align: top;\n",
       "    }\n",
       "\n",
       "    .dataframe thead th {\n",
       "        text-align: right;\n",
       "    }\n",
       "</style>\n",
       "<table border=\"1\" class=\"dataframe\">\n",
       "  <thead>\n",
       "    <tr style=\"text-align: right;\">\n",
       "      <th></th>\n",
       "      <th>Name</th>\n",
       "      <th>Location</th>\n",
       "      <th>Year</th>\n",
       "      <th>Kilometers_Driven</th>\n",
       "      <th>Fuel_Type</th>\n",
       "      <th>Transmission</th>\n",
       "      <th>Owner_Type</th>\n",
       "      <th>Mileage</th>\n",
       "      <th>Engine</th>\n",
       "      <th>Power</th>\n",
       "      <th>Seats</th>\n",
       "      <th>Price</th>\n",
       "      <th>Brand</th>\n",
       "    </tr>\n",
       "  </thead>\n",
       "  <tbody>\n",
       "    <tr>\n",
       "      <th>1269</th>\n",
       "      <td>Alto 800 2016-2019 CNG LXI</td>\n",
       "      <td>Mumbai</td>\n",
       "      <td>2018</td>\n",
       "      <td>10600</td>\n",
       "      <td>CNG</td>\n",
       "      <td>Manual</td>\n",
       "      <td>First</td>\n",
       "      <td>33.44</td>\n",
       "      <td>796.0</td>\n",
       "      <td>40.30</td>\n",
       "      <td>4.0</td>\n",
       "      <td>3.50</td>\n",
       "      <td>Maruti</td>\n",
       "    </tr>\n",
       "    <tr>\n",
       "      <th>1332</th>\n",
       "      <td>Wagon R CNG LXI</td>\n",
       "      <td>Pune</td>\n",
       "      <td>2013</td>\n",
       "      <td>79494</td>\n",
       "      <td>CNG</td>\n",
       "      <td>Manual</td>\n",
       "      <td>First</td>\n",
       "      <td>33.54</td>\n",
       "      <td>998.0</td>\n",
       "      <td>67.04</td>\n",
       "      <td>5.0</td>\n",
       "      <td>2.96</td>\n",
       "      <td>Maruti</td>\n",
       "    </tr>\n",
       "    <tr>\n",
       "      <th>2059</th>\n",
       "      <td>Wagon R CNG LXI</td>\n",
       "      <td>Mumbai</td>\n",
       "      <td>2013</td>\n",
       "      <td>54000</td>\n",
       "      <td>CNG</td>\n",
       "      <td>Manual</td>\n",
       "      <td>First</td>\n",
       "      <td>33.54</td>\n",
       "      <td>998.0</td>\n",
       "      <td>67.04</td>\n",
       "      <td>5.0</td>\n",
       "      <td>3.05</td>\n",
       "      <td>Maruti</td>\n",
       "    </tr>\n",
       "    <tr>\n",
       "      <th>2371</th>\n",
       "      <td>Wagon R CNG LXI</td>\n",
       "      <td>Pune</td>\n",
       "      <td>2014</td>\n",
       "      <td>29202</td>\n",
       "      <td>CNG</td>\n",
       "      <td>Manual</td>\n",
       "      <td>First</td>\n",
       "      <td>33.54</td>\n",
       "      <td>998.0</td>\n",
       "      <td>67.04</td>\n",
       "      <td>5.0</td>\n",
       "      <td>3.90</td>\n",
       "      <td>Maruti</td>\n",
       "    </tr>\n",
       "    <tr>\n",
       "      <th>2701</th>\n",
       "      <td>Celerio CNG VXI MT</td>\n",
       "      <td>Kochi</td>\n",
       "      <td>2016</td>\n",
       "      <td>70536</td>\n",
       "      <td>CNG</td>\n",
       "      <td>Manual</td>\n",
       "      <td>First</td>\n",
       "      <td>31.79</td>\n",
       "      <td>998.0</td>\n",
       "      <td>58.33</td>\n",
       "      <td>5.0</td>\n",
       "      <td>4.58</td>\n",
       "      <td>Maruti</td>\n",
       "    </tr>\n",
       "    <tr>\n",
       "      <th>3119</th>\n",
       "      <td>Alto K10 LXI CNG Optional</td>\n",
       "      <td>Kochi</td>\n",
       "      <td>2018</td>\n",
       "      <td>44202</td>\n",
       "      <td>CNG</td>\n",
       "      <td>Manual</td>\n",
       "      <td>First</td>\n",
       "      <td>32.26</td>\n",
       "      <td>998.0</td>\n",
       "      <td>58.20</td>\n",
       "      <td>4.0</td>\n",
       "      <td>4.00</td>\n",
       "      <td>Maruti</td>\n",
       "    </tr>\n",
       "    <tr>\n",
       "      <th>3129</th>\n",
       "      <td>Wagon R CNG LXI</td>\n",
       "      <td>Delhi</td>\n",
       "      <td>2014</td>\n",
       "      <td>74663</td>\n",
       "      <td>CNG</td>\n",
       "      <td>Manual</td>\n",
       "      <td>First</td>\n",
       "      <td>33.54</td>\n",
       "      <td>998.0</td>\n",
       "      <td>67.04</td>\n",
       "      <td>5.0</td>\n",
       "      <td>3.25</td>\n",
       "      <td>Maruti</td>\n",
       "    </tr>\n",
       "    <tr>\n",
       "      <th>3553</th>\n",
       "      <td>Alto 800 2016-2019 CNG LXI</td>\n",
       "      <td>Pune</td>\n",
       "      <td>2015</td>\n",
       "      <td>18000</td>\n",
       "      <td>CNG</td>\n",
       "      <td>Manual</td>\n",
       "      <td>First</td>\n",
       "      <td>33.44</td>\n",
       "      <td>796.0</td>\n",
       "      <td>40.30</td>\n",
       "      <td>4.0</td>\n",
       "      <td>3.00</td>\n",
       "      <td>Maruti</td>\n",
       "    </tr>\n",
       "    <tr>\n",
       "      <th>3869</th>\n",
       "      <td>Alto 800 2016-2019 CNG LXI</td>\n",
       "      <td>Delhi</td>\n",
       "      <td>2012</td>\n",
       "      <td>65537</td>\n",
       "      <td>CNG</td>\n",
       "      <td>Manual</td>\n",
       "      <td>Second</td>\n",
       "      <td>33.44</td>\n",
       "      <td>796.0</td>\n",
       "      <td>40.30</td>\n",
       "      <td>4.0</td>\n",
       "      <td>2.10</td>\n",
       "      <td>Maruti</td>\n",
       "    </tr>\n",
       "    <tr>\n",
       "      <th>4141</th>\n",
       "      <td>Wagon R CNG LXI</td>\n",
       "      <td>Mumbai</td>\n",
       "      <td>2014</td>\n",
       "      <td>47200</td>\n",
       "      <td>CNG</td>\n",
       "      <td>Manual</td>\n",
       "      <td>First</td>\n",
       "      <td>33.54</td>\n",
       "      <td>998.0</td>\n",
       "      <td>67.04</td>\n",
       "      <td>5.0</td>\n",
       "      <td>2.85</td>\n",
       "      <td>Maruti</td>\n",
       "    </tr>\n",
       "    <tr>\n",
       "      <th>4769</th>\n",
       "      <td>Alto 800 2016-2019 CNG LXI</td>\n",
       "      <td>Kochi</td>\n",
       "      <td>2017</td>\n",
       "      <td>24310</td>\n",
       "      <td>CNG</td>\n",
       "      <td>Manual</td>\n",
       "      <td>First</td>\n",
       "      <td>33.44</td>\n",
       "      <td>796.0</td>\n",
       "      <td>40.30</td>\n",
       "      <td>4.0</td>\n",
       "      <td>3.70</td>\n",
       "      <td>Maruti</td>\n",
       "    </tr>\n",
       "    <tr>\n",
       "      <th>5178</th>\n",
       "      <td>Celerio CNG VXI MT</td>\n",
       "      <td>Delhi</td>\n",
       "      <td>2015</td>\n",
       "      <td>64687</td>\n",
       "      <td>CNG</td>\n",
       "      <td>Manual</td>\n",
       "      <td>First</td>\n",
       "      <td>31.79</td>\n",
       "      <td>998.0</td>\n",
       "      <td>58.33</td>\n",
       "      <td>5.0</td>\n",
       "      <td>3.80</td>\n",
       "      <td>Maruti</td>\n",
       "    </tr>\n",
       "    <tr>\n",
       "      <th>5710</th>\n",
       "      <td>Alto 800 CNG LXI</td>\n",
       "      <td>Mumbai</td>\n",
       "      <td>2013</td>\n",
       "      <td>26200</td>\n",
       "      <td>CNG</td>\n",
       "      <td>Manual</td>\n",
       "      <td>First</td>\n",
       "      <td>30.46</td>\n",
       "      <td>796.0</td>\n",
       "      <td>47.30</td>\n",
       "      <td>5.0</td>\n",
       "      <td>2.15</td>\n",
       "      <td>Maruti</td>\n",
       "    </tr>\n",
       "    <tr>\n",
       "      <th>5935</th>\n",
       "      <td>Alto K10 LXI CNG</td>\n",
       "      <td>Pune</td>\n",
       "      <td>2015</td>\n",
       "      <td>59525</td>\n",
       "      <td>CNG</td>\n",
       "      <td>Manual</td>\n",
       "      <td>Second</td>\n",
       "      <td>32.26</td>\n",
       "      <td>998.0</td>\n",
       "      <td>58.20</td>\n",
       "      <td>4.0</td>\n",
       "      <td>3.10</td>\n",
       "      <td>Maruti</td>\n",
       "    </tr>\n",
       "  </tbody>\n",
       "</table>\n",
       "</div>"
      ],
      "text/plain": [
       "                            Name Location  Year  Kilometers_Driven Fuel_Type  \\\n",
       "1269  Alto 800 2016-2019 CNG LXI   Mumbai  2018              10600       CNG   \n",
       "1332             Wagon R CNG LXI     Pune  2013              79494       CNG   \n",
       "2059             Wagon R CNG LXI   Mumbai  2013              54000       CNG   \n",
       "2371             Wagon R CNG LXI     Pune  2014              29202       CNG   \n",
       "2701          Celerio CNG VXI MT    Kochi  2016              70536       CNG   \n",
       "3119   Alto K10 LXI CNG Optional    Kochi  2018              44202       CNG   \n",
       "3129             Wagon R CNG LXI    Delhi  2014              74663       CNG   \n",
       "3553  Alto 800 2016-2019 CNG LXI     Pune  2015              18000       CNG   \n",
       "3869  Alto 800 2016-2019 CNG LXI    Delhi  2012              65537       CNG   \n",
       "4141             Wagon R CNG LXI   Mumbai  2014              47200       CNG   \n",
       "4769  Alto 800 2016-2019 CNG LXI    Kochi  2017              24310       CNG   \n",
       "5178          Celerio CNG VXI MT    Delhi  2015              64687       CNG   \n",
       "5710            Alto 800 CNG LXI   Mumbai  2013              26200       CNG   \n",
       "5935            Alto K10 LXI CNG     Pune  2015              59525       CNG   \n",
       "\n",
       "     Transmission Owner_Type  Mileage  Engine  Power  Seats  Price   Brand  \n",
       "1269       Manual      First    33.44   796.0  40.30    4.0   3.50  Maruti  \n",
       "1332       Manual      First    33.54   998.0  67.04    5.0   2.96  Maruti  \n",
       "2059       Manual      First    33.54   998.0  67.04    5.0   3.05  Maruti  \n",
       "2371       Manual      First    33.54   998.0  67.04    5.0   3.90  Maruti  \n",
       "2701       Manual      First    31.79   998.0  58.33    5.0   4.58  Maruti  \n",
       "3119       Manual      First    32.26   998.0  58.20    4.0   4.00  Maruti  \n",
       "3129       Manual      First    33.54   998.0  67.04    5.0   3.25  Maruti  \n",
       "3553       Manual      First    33.44   796.0  40.30    4.0   3.00  Maruti  \n",
       "3869       Manual     Second    33.44   796.0  40.30    4.0   2.10  Maruti  \n",
       "4141       Manual      First    33.54   998.0  67.04    5.0   2.85  Maruti  \n",
       "4769       Manual      First    33.44   796.0  40.30    4.0   3.70  Maruti  \n",
       "5178       Manual      First    31.79   998.0  58.33    5.0   3.80  Maruti  \n",
       "5710       Manual      First    30.46   796.0  47.30    5.0   2.15  Maruti  \n",
       "5935       Manual     Second    32.26   998.0  58.20    4.0   3.10  Maruti  "
      ]
     },
     "execution_count": 227,
     "metadata": {},
     "output_type": "execute_result"
    }
   ],
   "source": [
    "tr[tr.Mileage>30]\n"
   ]
  },
  {
   "cell_type": "code",
   "execution_count": 228,
   "metadata": {},
   "outputs": [
    {
     "data": {
      "text/html": [
       "<div>\n",
       "<style scoped>\n",
       "    .dataframe tbody tr th:only-of-type {\n",
       "        vertical-align: middle;\n",
       "    }\n",
       "\n",
       "    .dataframe tbody tr th {\n",
       "        vertical-align: top;\n",
       "    }\n",
       "\n",
       "    .dataframe thead th {\n",
       "        text-align: right;\n",
       "    }\n",
       "</style>\n",
       "<table border=\"1\" class=\"dataframe\">\n",
       "  <thead>\n",
       "    <tr style=\"text-align: right;\">\n",
       "      <th></th>\n",
       "      <th>Name</th>\n",
       "      <th>Location</th>\n",
       "      <th>Year</th>\n",
       "      <th>Kilometers_Driven</th>\n",
       "      <th>Fuel_Type</th>\n",
       "      <th>Transmission</th>\n",
       "      <th>Owner_Type</th>\n",
       "      <th>Mileage</th>\n",
       "      <th>Engine</th>\n",
       "      <th>Power</th>\n",
       "      <th>Seats</th>\n",
       "      <th>Price</th>\n",
       "      <th>Brand</th>\n",
       "    </tr>\n",
       "  </thead>\n",
       "  <tbody>\n",
       "    <tr>\n",
       "      <th>14</th>\n",
       "      <td>Rover Freelander 2 TD4 SE</td>\n",
       "      <td>Pune</td>\n",
       "      <td>2012</td>\n",
       "      <td>85000</td>\n",
       "      <td>Diesel</td>\n",
       "      <td>Automatic</td>\n",
       "      <td>Second</td>\n",
       "      <td>0.0</td>\n",
       "      <td>2179.0</td>\n",
       "      <td>115.0</td>\n",
       "      <td>5.0</td>\n",
       "      <td>17.50</td>\n",
       "      <td>Land</td>\n",
       "    </tr>\n",
       "    <tr>\n",
       "      <th>67</th>\n",
       "      <td>C-Class Progressive C 220d</td>\n",
       "      <td>Coimbatore</td>\n",
       "      <td>2019</td>\n",
       "      <td>15369</td>\n",
       "      <td>Diesel</td>\n",
       "      <td>Automatic</td>\n",
       "      <td>First</td>\n",
       "      <td>0.0</td>\n",
       "      <td>1950.0</td>\n",
       "      <td>194.0</td>\n",
       "      <td>5.0</td>\n",
       "      <td>35.67</td>\n",
       "      <td>Mercedes-Benz</td>\n",
       "    </tr>\n",
       "    <tr>\n",
       "      <th>79</th>\n",
       "      <td>Santro Xing XL</td>\n",
       "      <td>Hyderabad</td>\n",
       "      <td>2005</td>\n",
       "      <td>87591</td>\n",
       "      <td>Petrol</td>\n",
       "      <td>Manual</td>\n",
       "      <td>First</td>\n",
       "      <td>0.0</td>\n",
       "      <td>1086.0</td>\n",
       "      <td>0.0</td>\n",
       "      <td>5.0</td>\n",
       "      <td>1.30</td>\n",
       "      <td>Hyundai</td>\n",
       "    </tr>\n",
       "    <tr>\n",
       "      <th>194</th>\n",
       "      <td>City 1.5 GXI</td>\n",
       "      <td>Ahmedabad</td>\n",
       "      <td>2007</td>\n",
       "      <td>60006</td>\n",
       "      <td>Petrol</td>\n",
       "      <td>Manual</td>\n",
       "      <td>First</td>\n",
       "      <td>0.0</td>\n",
       "      <td>NaN</td>\n",
       "      <td>NaN</td>\n",
       "      <td>5.0</td>\n",
       "      <td>2.95</td>\n",
       "      <td>Honda</td>\n",
       "    </tr>\n",
       "    <tr>\n",
       "      <th>229</th>\n",
       "      <td>Figo Diesel</td>\n",
       "      <td>Bangalore</td>\n",
       "      <td>2015</td>\n",
       "      <td>70436</td>\n",
       "      <td>Diesel</td>\n",
       "      <td>Manual</td>\n",
       "      <td>First</td>\n",
       "      <td>0.0</td>\n",
       "      <td>1498.0</td>\n",
       "      <td>99.0</td>\n",
       "      <td>5.0</td>\n",
       "      <td>3.60</td>\n",
       "      <td>Ford</td>\n",
       "    </tr>\n",
       "    <tr>\n",
       "      <th>...</th>\n",
       "      <td>...</td>\n",
       "      <td>...</td>\n",
       "      <td>...</td>\n",
       "      <td>...</td>\n",
       "      <td>...</td>\n",
       "      <td>...</td>\n",
       "      <td>...</td>\n",
       "      <td>...</td>\n",
       "      <td>...</td>\n",
       "      <td>...</td>\n",
       "      <td>...</td>\n",
       "      <td>...</td>\n",
       "      <td>...</td>\n",
       "    </tr>\n",
       "    <tr>\n",
       "      <th>5647</th>\n",
       "      <td>Qualis Fleet A3</td>\n",
       "      <td>Mumbai</td>\n",
       "      <td>2001</td>\n",
       "      <td>227000</td>\n",
       "      <td>Diesel</td>\n",
       "      <td>Manual</td>\n",
       "      <td>Fourth &amp; Above</td>\n",
       "      <td>0.0</td>\n",
       "      <td>2446.0</td>\n",
       "      <td>0.0</td>\n",
       "      <td>8.0</td>\n",
       "      <td>2.20</td>\n",
       "      <td>Toyota</td>\n",
       "    </tr>\n",
       "    <tr>\n",
       "      <th>5875</th>\n",
       "      <td>C-Class Progressive C 220d</td>\n",
       "      <td>Ahmedabad</td>\n",
       "      <td>2019</td>\n",
       "      <td>4000</td>\n",
       "      <td>Diesel</td>\n",
       "      <td>Automatic</td>\n",
       "      <td>First</td>\n",
       "      <td>0.0</td>\n",
       "      <td>1950.0</td>\n",
       "      <td>194.0</td>\n",
       "      <td>5.0</td>\n",
       "      <td>35.00</td>\n",
       "      <td>Mercedes-Benz</td>\n",
       "    </tr>\n",
       "    <tr>\n",
       "      <th>5943</th>\n",
       "      <td>Jeep MM 540 DP</td>\n",
       "      <td>Chennai</td>\n",
       "      <td>2002</td>\n",
       "      <td>75000</td>\n",
       "      <td>Diesel</td>\n",
       "      <td>Manual</td>\n",
       "      <td>First</td>\n",
       "      <td>0.0</td>\n",
       "      <td>2112.0</td>\n",
       "      <td>0.0</td>\n",
       "      <td>6.0</td>\n",
       "      <td>1.70</td>\n",
       "      <td>Mahindra</td>\n",
       "    </tr>\n",
       "    <tr>\n",
       "      <th>5972</th>\n",
       "      <td>Santro Xing GL</td>\n",
       "      <td>Mumbai</td>\n",
       "      <td>2008</td>\n",
       "      <td>65000</td>\n",
       "      <td>Petrol</td>\n",
       "      <td>Manual</td>\n",
       "      <td>Second</td>\n",
       "      <td>0.0</td>\n",
       "      <td>1086.0</td>\n",
       "      <td>62.0</td>\n",
       "      <td>5.0</td>\n",
       "      <td>1.39</td>\n",
       "      <td>Hyundai</td>\n",
       "    </tr>\n",
       "    <tr>\n",
       "      <th>6011</th>\n",
       "      <td>Superb 3.6 V6 FSI</td>\n",
       "      <td>Hyderabad</td>\n",
       "      <td>2009</td>\n",
       "      <td>53000</td>\n",
       "      <td>Petrol</td>\n",
       "      <td>Automatic</td>\n",
       "      <td>First</td>\n",
       "      <td>0.0</td>\n",
       "      <td>3597.0</td>\n",
       "      <td>262.6</td>\n",
       "      <td>5.0</td>\n",
       "      <td>4.75</td>\n",
       "      <td>Skoda</td>\n",
       "    </tr>\n",
       "  </tbody>\n",
       "</table>\n",
       "<p>68 rows × 13 columns</p>\n",
       "</div>"
      ],
      "text/plain": [
       "                            Name    Location  Year  Kilometers_Driven  \\\n",
       "14     Rover Freelander 2 TD4 SE        Pune  2012              85000   \n",
       "67    C-Class Progressive C 220d  Coimbatore  2019              15369   \n",
       "79                Santro Xing XL   Hyderabad  2005              87591   \n",
       "194                 City 1.5 GXI   Ahmedabad  2007              60006   \n",
       "229                  Figo Diesel   Bangalore  2015              70436   \n",
       "...                          ...         ...   ...                ...   \n",
       "5647             Qualis Fleet A3      Mumbai  2001             227000   \n",
       "5875  C-Class Progressive C 220d   Ahmedabad  2019               4000   \n",
       "5943              Jeep MM 540 DP     Chennai  2002              75000   \n",
       "5972              Santro Xing GL      Mumbai  2008              65000   \n",
       "6011           Superb 3.6 V6 FSI   Hyderabad  2009              53000   \n",
       "\n",
       "     Fuel_Type Transmission      Owner_Type  Mileage  Engine  Power  Seats  \\\n",
       "14      Diesel    Automatic          Second      0.0  2179.0  115.0    5.0   \n",
       "67      Diesel    Automatic           First      0.0  1950.0  194.0    5.0   \n",
       "79      Petrol       Manual           First      0.0  1086.0    0.0    5.0   \n",
       "194     Petrol       Manual           First      0.0     NaN    NaN    5.0   \n",
       "229     Diesel       Manual           First      0.0  1498.0   99.0    5.0   \n",
       "...        ...          ...             ...      ...     ...    ...    ...   \n",
       "5647    Diesel       Manual  Fourth & Above      0.0  2446.0    0.0    8.0   \n",
       "5875    Diesel    Automatic           First      0.0  1950.0  194.0    5.0   \n",
       "5943    Diesel       Manual           First      0.0  2112.0    0.0    6.0   \n",
       "5972    Petrol       Manual          Second      0.0  1086.0   62.0    5.0   \n",
       "6011    Petrol    Automatic           First      0.0  3597.0  262.6    5.0   \n",
       "\n",
       "      Price          Brand  \n",
       "14    17.50           Land  \n",
       "67    35.67  Mercedes-Benz  \n",
       "79     1.30        Hyundai  \n",
       "194    2.95          Honda  \n",
       "229    3.60           Ford  \n",
       "...     ...            ...  \n",
       "5647   2.20         Toyota  \n",
       "5875  35.00  Mercedes-Benz  \n",
       "5943   1.70       Mahindra  \n",
       "5972   1.39        Hyundai  \n",
       "6011   4.75          Skoda  \n",
       "\n",
       "[68 rows x 13 columns]"
      ]
     },
     "execution_count": 228,
     "metadata": {},
     "output_type": "execute_result"
    }
   ],
   "source": [
    "tr[tr.Mileage<1]"
   ]
  },
  {
   "cell_type": "code",
   "execution_count": 229,
   "metadata": {},
   "outputs": [
    {
     "data": {
      "text/plain": [
       "(5947, 13)"
      ]
     },
     "execution_count": 229,
     "metadata": {},
     "output_type": "execute_result"
    }
   ],
   "source": [
    "tr = tr[tr['Mileage'] >=1]\n",
    "tr.shape"
   ]
  },
  {
   "cell_type": "code",
   "execution_count": 230,
   "metadata": {},
   "outputs": [],
   "source": [
    "tr.Engine=tr.Engine.fillna(tr.Engine.median())"
   ]
  },
  {
   "cell_type": "code",
   "execution_count": 231,
   "metadata": {},
   "outputs": [
    {
     "data": {
      "text/html": [
       "<div>\n",
       "<style scoped>\n",
       "    .dataframe tbody tr th:only-of-type {\n",
       "        vertical-align: middle;\n",
       "    }\n",
       "\n",
       "    .dataframe tbody tr th {\n",
       "        vertical-align: top;\n",
       "    }\n",
       "\n",
       "    .dataframe thead th {\n",
       "        text-align: right;\n",
       "    }\n",
       "</style>\n",
       "<table border=\"1\" class=\"dataframe\">\n",
       "  <thead>\n",
       "    <tr style=\"text-align: right;\">\n",
       "      <th></th>\n",
       "      <th>Name</th>\n",
       "      <th>Location</th>\n",
       "      <th>Year</th>\n",
       "      <th>Kilometers_Driven</th>\n",
       "      <th>Fuel_Type</th>\n",
       "      <th>Transmission</th>\n",
       "      <th>Owner_Type</th>\n",
       "      <th>Mileage</th>\n",
       "      <th>Engine</th>\n",
       "      <th>Power</th>\n",
       "      <th>Seats</th>\n",
       "      <th>Price</th>\n",
       "      <th>Brand</th>\n",
       "    </tr>\n",
       "  </thead>\n",
       "  <tbody>\n",
       "  </tbody>\n",
       "</table>\n",
       "</div>"
      ],
      "text/plain": [
       "Empty DataFrame\n",
       "Columns: [Name, Location, Year, Kilometers_Driven, Fuel_Type, Transmission, Owner_Type, Mileage, Engine, Power, Seats, Price, Brand]\n",
       "Index: []"
      ]
     },
     "execution_count": 231,
     "metadata": {},
     "output_type": "execute_result"
    }
   ],
   "source": [
    "tr[tr['Engine'] <1]"
   ]
  },
  {
   "cell_type": "code",
   "execution_count": 232,
   "metadata": {},
   "outputs": [],
   "source": [
    "tr.Power=tr.Power.fillna(tr.Power.median())\n"
   ]
  },
  {
   "cell_type": "code",
   "execution_count": 233,
   "metadata": {},
   "outputs": [
    {
     "data": {
      "text/html": [
       "<div>\n",
       "<style scoped>\n",
       "    .dataframe tbody tr th:only-of-type {\n",
       "        vertical-align: middle;\n",
       "    }\n",
       "\n",
       "    .dataframe tbody tr th {\n",
       "        vertical-align: top;\n",
       "    }\n",
       "\n",
       "    .dataframe thead th {\n",
       "        text-align: right;\n",
       "    }\n",
       "</style>\n",
       "<table border=\"1\" class=\"dataframe\">\n",
       "  <thead>\n",
       "    <tr style=\"text-align: right;\">\n",
       "      <th></th>\n",
       "      <th>Name</th>\n",
       "      <th>Location</th>\n",
       "      <th>Year</th>\n",
       "      <th>Kilometers_Driven</th>\n",
       "      <th>Fuel_Type</th>\n",
       "      <th>Transmission</th>\n",
       "      <th>Owner_Type</th>\n",
       "      <th>Mileage</th>\n",
       "      <th>Engine</th>\n",
       "      <th>Power</th>\n",
       "      <th>Seats</th>\n",
       "      <th>Price</th>\n",
       "      <th>Brand</th>\n",
       "    </tr>\n",
       "  </thead>\n",
       "  <tbody>\n",
       "    <tr>\n",
       "      <th>76</th>\n",
       "      <td>Fiesta 1.4 SXi TDCi</td>\n",
       "      <td>Jaipur</td>\n",
       "      <td>2008</td>\n",
       "      <td>111111</td>\n",
       "      <td>Diesel</td>\n",
       "      <td>Manual</td>\n",
       "      <td>First</td>\n",
       "      <td>17.80</td>\n",
       "      <td>1399.0</td>\n",
       "      <td>0.0</td>\n",
       "      <td>5.0</td>\n",
       "      <td>2.00</td>\n",
       "      <td>Ford</td>\n",
       "    </tr>\n",
       "    <tr>\n",
       "      <th>89</th>\n",
       "      <td>Santro Xing XO</td>\n",
       "      <td>Hyderabad</td>\n",
       "      <td>2007</td>\n",
       "      <td>73745</td>\n",
       "      <td>Petrol</td>\n",
       "      <td>Manual</td>\n",
       "      <td>First</td>\n",
       "      <td>17.00</td>\n",
       "      <td>1086.0</td>\n",
       "      <td>0.0</td>\n",
       "      <td>5.0</td>\n",
       "      <td>2.10</td>\n",
       "      <td>Hyundai</td>\n",
       "    </tr>\n",
       "    <tr>\n",
       "      <th>120</th>\n",
       "      <td>Santro Xing XL eRLX Euro III</td>\n",
       "      <td>Mumbai</td>\n",
       "      <td>2005</td>\n",
       "      <td>102000</td>\n",
       "      <td>Petrol</td>\n",
       "      <td>Manual</td>\n",
       "      <td>Second</td>\n",
       "      <td>17.00</td>\n",
       "      <td>1086.0</td>\n",
       "      <td>0.0</td>\n",
       "      <td>5.0</td>\n",
       "      <td>0.85</td>\n",
       "      <td>Hyundai</td>\n",
       "    </tr>\n",
       "    <tr>\n",
       "      <th>143</th>\n",
       "      <td>Santro Xing XO eRLX Euro II</td>\n",
       "      <td>Kochi</td>\n",
       "      <td>2008</td>\n",
       "      <td>80759</td>\n",
       "      <td>Petrol</td>\n",
       "      <td>Manual</td>\n",
       "      <td>Third</td>\n",
       "      <td>17.00</td>\n",
       "      <td>1086.0</td>\n",
       "      <td>0.0</td>\n",
       "      <td>5.0</td>\n",
       "      <td>1.67</td>\n",
       "      <td>Hyundai</td>\n",
       "    </tr>\n",
       "    <tr>\n",
       "      <th>227</th>\n",
       "      <td>Swift VDI BSIV</td>\n",
       "      <td>Delhi</td>\n",
       "      <td>2013</td>\n",
       "      <td>47000</td>\n",
       "      <td>Diesel</td>\n",
       "      <td>Manual</td>\n",
       "      <td>First</td>\n",
       "      <td>17.80</td>\n",
       "      <td>1248.0</td>\n",
       "      <td>0.0</td>\n",
       "      <td>5.0</td>\n",
       "      <td>4.10</td>\n",
       "      <td>Maruti</td>\n",
       "    </tr>\n",
       "    <tr>\n",
       "      <th>...</th>\n",
       "      <td>...</td>\n",
       "      <td>...</td>\n",
       "      <td>...</td>\n",
       "      <td>...</td>\n",
       "      <td>...</td>\n",
       "      <td>...</td>\n",
       "      <td>...</td>\n",
       "      <td>...</td>\n",
       "      <td>...</td>\n",
       "      <td>...</td>\n",
       "      <td>...</td>\n",
       "      <td>...</td>\n",
       "      <td>...</td>\n",
       "    </tr>\n",
       "    <tr>\n",
       "      <th>5861</th>\n",
       "      <td>Santro Xing XO</td>\n",
       "      <td>Chennai</td>\n",
       "      <td>2007</td>\n",
       "      <td>79000</td>\n",
       "      <td>Petrol</td>\n",
       "      <td>Manual</td>\n",
       "      <td>First</td>\n",
       "      <td>17.00</td>\n",
       "      <td>1086.0</td>\n",
       "      <td>0.0</td>\n",
       "      <td>5.0</td>\n",
       "      <td>1.85</td>\n",
       "      <td>Hyundai</td>\n",
       "    </tr>\n",
       "    <tr>\n",
       "      <th>5873</th>\n",
       "      <td>Santro Xing XO eRLX Euro II</td>\n",
       "      <td>Pune</td>\n",
       "      <td>2006</td>\n",
       "      <td>47200</td>\n",
       "      <td>Petrol</td>\n",
       "      <td>Manual</td>\n",
       "      <td>Second</td>\n",
       "      <td>17.00</td>\n",
       "      <td>1086.0</td>\n",
       "      <td>0.0</td>\n",
       "      <td>5.0</td>\n",
       "      <td>1.20</td>\n",
       "      <td>Hyundai</td>\n",
       "    </tr>\n",
       "    <tr>\n",
       "      <th>5893</th>\n",
       "      <td>Estilo LXI</td>\n",
       "      <td>Chennai</td>\n",
       "      <td>2008</td>\n",
       "      <td>51000</td>\n",
       "      <td>Petrol</td>\n",
       "      <td>Manual</td>\n",
       "      <td>Second</td>\n",
       "      <td>19.50</td>\n",
       "      <td>1061.0</td>\n",
       "      <td>0.0</td>\n",
       "      <td>5.0</td>\n",
       "      <td>1.75</td>\n",
       "      <td>Maruti</td>\n",
       "    </tr>\n",
       "    <tr>\n",
       "      <th>5925</th>\n",
       "      <td>Laura Classic 1.8 TSI</td>\n",
       "      <td>Pune</td>\n",
       "      <td>2010</td>\n",
       "      <td>85000</td>\n",
       "      <td>Petrol</td>\n",
       "      <td>Manual</td>\n",
       "      <td>First</td>\n",
       "      <td>17.50</td>\n",
       "      <td>1798.0</td>\n",
       "      <td>0.0</td>\n",
       "      <td>5.0</td>\n",
       "      <td>2.85</td>\n",
       "      <td>Skoda</td>\n",
       "    </tr>\n",
       "    <tr>\n",
       "      <th>5985</th>\n",
       "      <td>Etios GD</td>\n",
       "      <td>Delhi</td>\n",
       "      <td>2013</td>\n",
       "      <td>70000</td>\n",
       "      <td>Diesel</td>\n",
       "      <td>Manual</td>\n",
       "      <td>First</td>\n",
       "      <td>23.59</td>\n",
       "      <td>1364.0</td>\n",
       "      <td>0.0</td>\n",
       "      <td>5.0</td>\n",
       "      <td>3.88</td>\n",
       "      <td>Toyota</td>\n",
       "    </tr>\n",
       "  </tbody>\n",
       "</table>\n",
       "<p>79 rows × 13 columns</p>\n",
       "</div>"
      ],
      "text/plain": [
       "                              Name   Location  Year  Kilometers_Driven  \\\n",
       "76             Fiesta 1.4 SXi TDCi     Jaipur  2008             111111   \n",
       "89                  Santro Xing XO  Hyderabad  2007              73745   \n",
       "120   Santro Xing XL eRLX Euro III     Mumbai  2005             102000   \n",
       "143    Santro Xing XO eRLX Euro II      Kochi  2008              80759   \n",
       "227                 Swift VDI BSIV      Delhi  2013              47000   \n",
       "...                            ...        ...   ...                ...   \n",
       "5861                Santro Xing XO    Chennai  2007              79000   \n",
       "5873   Santro Xing XO eRLX Euro II       Pune  2006              47200   \n",
       "5893                    Estilo LXI    Chennai  2008              51000   \n",
       "5925         Laura Classic 1.8 TSI       Pune  2010              85000   \n",
       "5985                      Etios GD      Delhi  2013              70000   \n",
       "\n",
       "     Fuel_Type Transmission Owner_Type  Mileage  Engine  Power  Seats  Price  \\\n",
       "76      Diesel       Manual      First    17.80  1399.0    0.0    5.0   2.00   \n",
       "89      Petrol       Manual      First    17.00  1086.0    0.0    5.0   2.10   \n",
       "120     Petrol       Manual     Second    17.00  1086.0    0.0    5.0   0.85   \n",
       "143     Petrol       Manual      Third    17.00  1086.0    0.0    5.0   1.67   \n",
       "227     Diesel       Manual      First    17.80  1248.0    0.0    5.0   4.10   \n",
       "...        ...          ...        ...      ...     ...    ...    ...    ...   \n",
       "5861    Petrol       Manual      First    17.00  1086.0    0.0    5.0   1.85   \n",
       "5873    Petrol       Manual     Second    17.00  1086.0    0.0    5.0   1.20   \n",
       "5893    Petrol       Manual     Second    19.50  1061.0    0.0    5.0   1.75   \n",
       "5925    Petrol       Manual      First    17.50  1798.0    0.0    5.0   2.85   \n",
       "5985    Diesel       Manual      First    23.59  1364.0    0.0    5.0   3.88   \n",
       "\n",
       "        Brand  \n",
       "76       Ford  \n",
       "89    Hyundai  \n",
       "120   Hyundai  \n",
       "143   Hyundai  \n",
       "227    Maruti  \n",
       "...       ...  \n",
       "5861  Hyundai  \n",
       "5873  Hyundai  \n",
       "5893   Maruti  \n",
       "5925    Skoda  \n",
       "5985   Toyota  \n",
       "\n",
       "[79 rows x 13 columns]"
      ]
     },
     "execution_count": 233,
     "metadata": {},
     "output_type": "execute_result"
    }
   ],
   "source": [
    "tr[tr['Power'] <1]"
   ]
  },
  {
   "cell_type": "code",
   "execution_count": 236,
   "metadata": {},
   "outputs": [
    {
     "name": "stderr",
     "output_type": "stream",
     "text": [
      "C:\\Users\\Acer\\anaconda3\\lib\\site-packages\\ipykernel_launcher.py:1: SettingWithCopyWarning: \n",
      "A value is trying to be set on a copy of a slice from a DataFrame\n",
      "\n",
      "See the caveats in the documentation: https://pandas.pydata.org/pandas-docs/stable/user_guide/indexing.html#returning-a-view-versus-a-copy\n",
      "  \"\"\"Entry point for launching an IPython kernel.\n"
     ]
    }
   ],
   "source": [
    "tr.Power[tr['Power'] <1]=tr.Power.median()"
   ]
  },
  {
   "cell_type": "code",
   "execution_count": 237,
   "metadata": {},
   "outputs": [
    {
     "data": {
      "text/html": [
       "<div>\n",
       "<style scoped>\n",
       "    .dataframe tbody tr th:only-of-type {\n",
       "        vertical-align: middle;\n",
       "    }\n",
       "\n",
       "    .dataframe tbody tr th {\n",
       "        vertical-align: top;\n",
       "    }\n",
       "\n",
       "    .dataframe thead th {\n",
       "        text-align: right;\n",
       "    }\n",
       "</style>\n",
       "<table border=\"1\" class=\"dataframe\">\n",
       "  <thead>\n",
       "    <tr style=\"text-align: right;\">\n",
       "      <th></th>\n",
       "      <th>Name</th>\n",
       "      <th>Location</th>\n",
       "      <th>Year</th>\n",
       "      <th>Kilometers_Driven</th>\n",
       "      <th>Fuel_Type</th>\n",
       "      <th>Transmission</th>\n",
       "      <th>Owner_Type</th>\n",
       "      <th>Mileage</th>\n",
       "      <th>Engine</th>\n",
       "      <th>Power</th>\n",
       "      <th>Seats</th>\n",
       "      <th>Price</th>\n",
       "      <th>Brand</th>\n",
       "    </tr>\n",
       "  </thead>\n",
       "  <tbody>\n",
       "  </tbody>\n",
       "</table>\n",
       "</div>"
      ],
      "text/plain": [
       "Empty DataFrame\n",
       "Columns: [Name, Location, Year, Kilometers_Driven, Fuel_Type, Transmission, Owner_Type, Mileage, Engine, Power, Seats, Price, Brand]\n",
       "Index: []"
      ]
     },
     "execution_count": 237,
     "metadata": {},
     "output_type": "execute_result"
    }
   ],
   "source": [
    "tr[tr['Year'] <1950]"
   ]
  },
  {
   "cell_type": "code",
   "execution_count": 238,
   "metadata": {},
   "outputs": [
    {
     "data": {
      "text/html": [
       "<div>\n",
       "<style scoped>\n",
       "    .dataframe tbody tr th:only-of-type {\n",
       "        vertical-align: middle;\n",
       "    }\n",
       "\n",
       "    .dataframe tbody tr th {\n",
       "        vertical-align: top;\n",
       "    }\n",
       "\n",
       "    .dataframe thead th {\n",
       "        text-align: right;\n",
       "    }\n",
       "</style>\n",
       "<table border=\"1\" class=\"dataframe\">\n",
       "  <thead>\n",
       "    <tr style=\"text-align: right;\">\n",
       "      <th></th>\n",
       "      <th>Year</th>\n",
       "      <th>Kilometers_Driven</th>\n",
       "      <th>Mileage</th>\n",
       "      <th>Engine</th>\n",
       "      <th>Power</th>\n",
       "      <th>Seats</th>\n",
       "      <th>Price</th>\n",
       "    </tr>\n",
       "  </thead>\n",
       "  <tbody>\n",
       "    <tr>\n",
       "      <th>Year</th>\n",
       "      <td>1.000000</td>\n",
       "      <td>-0.446097</td>\n",
       "      <td>0.296931</td>\n",
       "      <td>-0.058473</td>\n",
       "      <td>0.019903</td>\n",
       "      <td>0.015885</td>\n",
       "      <td>0.302131</td>\n",
       "    </tr>\n",
       "    <tr>\n",
       "      <th>Kilometers_Driven</th>\n",
       "      <td>-0.446097</td>\n",
       "      <td>1.000000</td>\n",
       "      <td>-0.139695</td>\n",
       "      <td>0.158449</td>\n",
       "      <td>0.002797</td>\n",
       "      <td>0.207474</td>\n",
       "      <td>-0.165360</td>\n",
       "    </tr>\n",
       "    <tr>\n",
       "      <th>Mileage</th>\n",
       "      <td>0.296931</td>\n",
       "      <td>-0.139695</td>\n",
       "      <td>1.000000</td>\n",
       "      <td>-0.645554</td>\n",
       "      <td>-0.548162</td>\n",
       "      <td>-0.343547</td>\n",
       "      <td>-0.333465</td>\n",
       "    </tr>\n",
       "    <tr>\n",
       "      <th>Engine</th>\n",
       "      <td>-0.058473</td>\n",
       "      <td>0.158449</td>\n",
       "      <td>-0.645554</td>\n",
       "      <td>1.000000</td>\n",
       "      <td>0.862227</td>\n",
       "      <td>0.396706</td>\n",
       "      <td>0.657862</td>\n",
       "    </tr>\n",
       "    <tr>\n",
       "      <th>Power</th>\n",
       "      <td>0.019903</td>\n",
       "      <td>0.002797</td>\n",
       "      <td>-0.548162</td>\n",
       "      <td>0.862227</td>\n",
       "      <td>1.000000</td>\n",
       "      <td>0.104735</td>\n",
       "      <td>0.773102</td>\n",
       "    </tr>\n",
       "    <tr>\n",
       "      <th>Seats</th>\n",
       "      <td>0.015885</td>\n",
       "      <td>0.207474</td>\n",
       "      <td>-0.343547</td>\n",
       "      <td>0.396706</td>\n",
       "      <td>0.104735</td>\n",
       "      <td>1.000000</td>\n",
       "      <td>0.055548</td>\n",
       "    </tr>\n",
       "    <tr>\n",
       "      <th>Price</th>\n",
       "      <td>0.302131</td>\n",
       "      <td>-0.165360</td>\n",
       "      <td>-0.333465</td>\n",
       "      <td>0.657862</td>\n",
       "      <td>0.773102</td>\n",
       "      <td>0.055548</td>\n",
       "      <td>1.000000</td>\n",
       "    </tr>\n",
       "  </tbody>\n",
       "</table>\n",
       "</div>"
      ],
      "text/plain": [
       "                       Year  Kilometers_Driven   Mileage    Engine     Power  \\\n",
       "Year               1.000000          -0.446097  0.296931 -0.058473  0.019903   \n",
       "Kilometers_Driven -0.446097           1.000000 -0.139695  0.158449  0.002797   \n",
       "Mileage            0.296931          -0.139695  1.000000 -0.645554 -0.548162   \n",
       "Engine            -0.058473           0.158449 -0.645554  1.000000  0.862227   \n",
       "Power              0.019903           0.002797 -0.548162  0.862227  1.000000   \n",
       "Seats              0.015885           0.207474 -0.343547  0.396706  0.104735   \n",
       "Price              0.302131          -0.165360 -0.333465  0.657862  0.773102   \n",
       "\n",
       "                      Seats     Price  \n",
       "Year               0.015885  0.302131  \n",
       "Kilometers_Driven  0.207474 -0.165360  \n",
       "Mileage           -0.343547 -0.333465  \n",
       "Engine             0.396706  0.657862  \n",
       "Power              0.104735  0.773102  \n",
       "Seats              1.000000  0.055548  \n",
       "Price              0.055548  1.000000  "
      ]
     },
     "execution_count": 238,
     "metadata": {},
     "output_type": "execute_result"
    }
   ],
   "source": [
    "tr.corr()"
   ]
  },
  {
   "cell_type": "markdown",
   "metadata": {},
   "source": [
    "Since Year, Kilometers Driven, Engine and power have high correlation with price and are the most relevant columns we will consider only them in our model\n",
    "\n",
    "\n",
    "\n"
   ]
  },
  {
   "cell_type": "markdown",
   "metadata": {},
   "source": [
    " "
   ]
  },
  {
   "cell_type": "markdown",
   "metadata": {},
   "source": [
    "**Train Test split**"
   ]
  },
  {
   "cell_type": "code",
   "execution_count": 322,
   "metadata": {},
   "outputs": [],
   "source": [
    "from sklearn.model_selection import train_test_split\n",
    "y=tr.Price\n",
    "x=tr.drop(['Price','Name','Seats','Brand','Location','Fuel_Type','Transmission','Owner_Type','Mileage'],axis=1)"
   ]
  },
  {
   "cell_type": "code",
   "execution_count": 392,
   "metadata": {},
   "outputs": [],
   "source": [
    "x_train, x_test, y_train, y_test = train_test_split(x, y,test_size=0.2,random_state=28)\n",
    "                                                "
   ]
  },
  {
   "cell_type": "code",
   "execution_count": 324,
   "metadata": {},
   "outputs": [
    {
     "data": {
      "text/plain": [
       "((4757, 4), (4757,), (1190, 4), (1190,))"
      ]
     },
     "execution_count": 324,
     "metadata": {},
     "output_type": "execute_result"
    }
   ],
   "source": [
    "x_train.shape, y_train.shape, x_test.shape, y_test.shape"
   ]
  },
  {
   "cell_type": "code",
   "execution_count": 267,
   "metadata": {},
   "outputs": [
    {
     "data": {
      "text/html": [
       "<div>\n",
       "<style scoped>\n",
       "    .dataframe tbody tr th:only-of-type {\n",
       "        vertical-align: middle;\n",
       "    }\n",
       "\n",
       "    .dataframe tbody tr th {\n",
       "        vertical-align: top;\n",
       "    }\n",
       "\n",
       "    .dataframe thead th {\n",
       "        text-align: right;\n",
       "    }\n",
       "</style>\n",
       "<table border=\"1\" class=\"dataframe\">\n",
       "  <thead>\n",
       "    <tr style=\"text-align: right;\">\n",
       "      <th></th>\n",
       "      <th>Year</th>\n",
       "      <th>Kilometers_Driven</th>\n",
       "      <th>Engine</th>\n",
       "      <th>Power</th>\n",
       "    </tr>\n",
       "  </thead>\n",
       "  <tbody>\n",
       "    <tr>\n",
       "      <th>5300</th>\n",
       "      <td>2012</td>\n",
       "      <td>60000</td>\n",
       "      <td>1199.0</td>\n",
       "      <td>73.90</td>\n",
       "    </tr>\n",
       "    <tr>\n",
       "      <th>4290</th>\n",
       "      <td>2005</td>\n",
       "      <td>123200</td>\n",
       "      <td>1495.0</td>\n",
       "      <td>94.00</td>\n",
       "    </tr>\n",
       "    <tr>\n",
       "      <th>4361</th>\n",
       "      <td>2012</td>\n",
       "      <td>54500</td>\n",
       "      <td>1498.0</td>\n",
       "      <td>108.40</td>\n",
       "    </tr>\n",
       "    <tr>\n",
       "      <th>5880</th>\n",
       "      <td>2012</td>\n",
       "      <td>92469</td>\n",
       "      <td>2143.0</td>\n",
       "      <td>201.15</td>\n",
       "    </tr>\n",
       "    <tr>\n",
       "      <th>2844</th>\n",
       "      <td>2007</td>\n",
       "      <td>90000</td>\n",
       "      <td>1061.0</td>\n",
       "      <td>64.00</td>\n",
       "    </tr>\n",
       "    <tr>\n",
       "      <th>...</th>\n",
       "      <td>...</td>\n",
       "      <td>...</td>\n",
       "      <td>...</td>\n",
       "      <td>...</td>\n",
       "    </tr>\n",
       "    <tr>\n",
       "      <th>515</th>\n",
       "      <td>2015</td>\n",
       "      <td>76427</td>\n",
       "      <td>1461.0</td>\n",
       "      <td>108.45</td>\n",
       "    </tr>\n",
       "    <tr>\n",
       "      <th>5336</th>\n",
       "      <td>2012</td>\n",
       "      <td>69242</td>\n",
       "      <td>1197.0</td>\n",
       "      <td>85.80</td>\n",
       "    </tr>\n",
       "    <tr>\n",
       "      <th>5737</th>\n",
       "      <td>2019</td>\n",
       "      <td>12800</td>\n",
       "      <td>1197.0</td>\n",
       "      <td>81.83</td>\n",
       "    </tr>\n",
       "    <tr>\n",
       "      <th>1001</th>\n",
       "      <td>2018</td>\n",
       "      <td>1900</td>\n",
       "      <td>799.0</td>\n",
       "      <td>53.30</td>\n",
       "    </tr>\n",
       "    <tr>\n",
       "      <th>2872</th>\n",
       "      <td>2014</td>\n",
       "      <td>23840</td>\n",
       "      <td>998.0</td>\n",
       "      <td>67.04</td>\n",
       "    </tr>\n",
       "  </tbody>\n",
       "</table>\n",
       "<p>1190 rows × 4 columns</p>\n",
       "</div>"
      ],
      "text/plain": [
       "      Year  Kilometers_Driven  Engine   Power\n",
       "5300  2012              60000  1199.0   73.90\n",
       "4290  2005             123200  1495.0   94.00\n",
       "4361  2012              54500  1498.0  108.40\n",
       "5880  2012              92469  2143.0  201.15\n",
       "2844  2007              90000  1061.0   64.00\n",
       "...    ...                ...     ...     ...\n",
       "515   2015              76427  1461.0  108.45\n",
       "5336  2012              69242  1197.0   85.80\n",
       "5737  2019              12800  1197.0   81.83\n",
       "1001  2018               1900   799.0   53.30\n",
       "2872  2014              23840   998.0   67.04\n",
       "\n",
       "[1190 rows x 4 columns]"
      ]
     },
     "execution_count": 267,
     "metadata": {},
     "output_type": "execute_result"
    }
   ],
   "source": [
    "x_test"
   ]
  },
  {
   "cell_type": "markdown",
   "metadata": {},
   "source": [
    "**Building the model**"
   ]
  },
  {
   "cell_type": "code",
   "execution_count": 242,
   "metadata": {},
   "outputs": [
    {
     "data": {
      "image/png": "[encoded data removed]",
      "text/plain": [
       "<Figure size 1440x360 with 4 Axes>"
      ]
     },
     "metadata": {
      "needs_background": "light"
     },
     "output_type": "display_data"
    }
   ],
   "source": [
    "import matplotlib.pyplot as plt\n",
    "plt.figure(figsize=(20,5))\n",
    "plt.subplots_adjust(left=0.125, bottom=0.1, right=0.9, top=0.9,\n",
    "                      wspace=0.5, hspace=0.5)\n",
    "plt.subplot(141)\n",
    "plt.scatter(tr[\"Kilometers_Driven\"], tr['Price'], color='red')\n",
    "plt.subplot(142)\n",
    "plt.scatter(tr[\"Engine\"], tr['Price'], color='red')\n",
    "plt.subplot(143)\n",
    "plt.scatter(tr[\"Power\"], tr['Price'], color='red')\n",
    "plt.subplot(144)\n",
    "plt.scatter(tr[\"Year\"], tr['Price'], color='red')\n",
    "plt.show()"
   ]
  },
  {
   "cell_type": "markdown",
   "metadata": {},
   "source": [
    "**Linear Regression Approach** "
   ]
  },
  {
   "cell_type": "code",
   "execution_count": 333,
   "metadata": {},
   "outputs": [
    {
     "data": {
      "text/plain": [
       "LinearRegression(copy_X=True, fit_intercept=True, n_jobs=None, normalize=False)"
      ]
     },
     "execution_count": 333,
     "metadata": {},
     "output_type": "execute_result"
    }
   ],
   "source": [
    "from sklearn import linear_model\n",
    "regr1 = linear_model.LinearRegression()\n",
    "regr1.fit(x_train, y_train)\n"
   ]
  },
  {
   "cell_type": "code",
   "execution_count": 334,
   "metadata": {},
   "outputs": [
    {
     "data": {
      "text/plain": [
       "array([8.31557838, 2.03921705, 6.77319204, ..., 3.56890608, 3.36553852,\n",
       "       8.13001902])"
      ]
     },
     "execution_count": 334,
     "metadata": {},
     "output_type": "execute_result"
    }
   ],
   "source": [
    "regr1.predict(x_test)"
   ]
  },
  {
   "cell_type": "code",
   "execution_count": 335,
   "metadata": {},
   "outputs": [
    {
     "name": "stdout",
     "output_type": "stream",
     "text": [
      "r2 score is 0.7231333913841224 rmse value is 5.971168739614936\n"
     ]
    }
   ],
   "source": [
    "from sklearn.metrics import r2_score\n",
    "from sklearn.metrics import mean_squared_error\n",
    "from math import sqrt\n",
    "print(\"r2 score is\",r2_score(y_test,regr1.predict(x_test)),\"rmse value is\",sqrt(mean_squared_error(y_test,regr1.predict(x_test))))\n"
   ]
  },
  {
   "cell_type": "code",
   "execution_count": 298,
   "metadata": {},
   "outputs": [
    {
     "data": {
      "text/plain": [
       "array([11.16304327,  1.61866872, -1.11950618, ..., -0.47093946,\n",
       "        5.61327125,  3.28037089])"
      ]
     },
     "execution_count": 298,
     "metadata": {},
     "output_type": "execute_result"
    }
   ],
   "source": [
    "regr1.predict(x_train)"
   ]
  },
  {
   "cell_type": "code",
   "execution_count": 299,
   "metadata": {},
   "outputs": [
    {
     "name": "stdout",
     "output_type": "stream",
     "text": [
      "r2 score is 0.6728024157745518\n"
     ]
    }
   ],
   "source": [
    "print(\"r2 score is\",r2_score(y_train,regr1.predict(x_train)))"
   ]
  },
  {
   "cell_type": "markdown",
   "metadata": {},
   "source": [
    "\n"
   ]
  },
  {
   "cell_type": "markdown",
   "metadata": {},
   "source": [
    "**Random Forest Approach**"
   ]
  },
  {
   "cell_type": "code",
   "execution_count": 394,
   "metadata": {},
   "outputs": [
    {
     "data": {
      "text/plain": [
       "RandomForestRegressor(bootstrap=True, ccp_alpha=0.0, criterion='mse',\n",
       "                      max_depth=None, max_features='auto', max_leaf_nodes=None,\n",
       "                      max_samples=None, min_impurity_decrease=0.0,\n",
       "                      min_impurity_split=None, min_samples_leaf=1,\n",
       "                      min_samples_split=2, min_weight_fraction_leaf=0.0,\n",
       "                      n_estimators=100, n_jobs=None, oob_score=False,\n",
       "                      random_state=0, verbose=0, warm_start=False)"
      ]
     },
     "execution_count": 394,
     "metadata": {},
     "output_type": "execute_result"
    }
   ],
   "source": [
    "from sklearn.ensemble import RandomForestRegressor \n",
    "regr2 = RandomForestRegressor(n_estimators = 100, random_state = 0) \n",
    "regr2.fit(x_train, y_train)   "
   ]
  },
  {
   "cell_type": "code",
   "execution_count": 369,
   "metadata": {},
   "outputs": [
    {
     "data": {
      "text/plain": [
       "array([ 7.7009,  1.0797, 19.5474, ...,  9.2518, 29.6067,  3.5855])"
      ]
     },
     "execution_count": 369,
     "metadata": {},
     "output_type": "execute_result"
    }
   ],
   "source": [
    "regr2.predict(x_test)"
   ]
  },
  {
   "cell_type": "code",
   "execution_count": 399,
   "metadata": {},
   "outputs": [
    {
     "name": "stdout",
     "output_type": "stream",
     "text": [
      "r2 score for train data is 0.9795382914934471 rmse value is 1.6015380608013183\n"
     ]
    }
   ],
   "source": [
    "print(\"r2 score for train data is\",r2_score(y_train,regr2.predict(x_train)),\"rmse value is\",sqrt(mean_squared_error(y_train,regr2.predict(x_train))))"
   ]
  },
  {
   "cell_type": "code",
   "execution_count": 400,
   "metadata": {},
   "outputs": [
    {
     "name": "stdout",
     "output_type": "stream",
     "text": [
      "r2 score for test data is 0.9028297635429574 rmse value is 3.3640505803470586\n"
     ]
    }
   ],
   "source": [
    "print(\"r2 score for test data is\",r2_score(y_test,regr2.predict(x_test)),\"rmse value is\",sqrt(mean_squared_error(y_test,regr2.predict(x_test))))\n"
   ]
  },
  {
   "cell_type": "markdown",
   "metadata": {},
   "source": [
    "Therefore second model is more preferreable"
   ]
  },
  {
   "cell_type": "code",
   "execution_count": 402,
   "metadata": {},
   "outputs": [
    {
     "data": {
      "text/html": [
       "<div>\n",
       "<style scoped>\n",
       "    .dataframe tbody tr th:only-of-type {\n",
       "        vertical-align: middle;\n",
       "    }\n",
       "\n",
       "    .dataframe tbody tr th {\n",
       "        vertical-align: top;\n",
       "    }\n",
       "\n",
       "    .dataframe thead th {\n",
       "        text-align: right;\n",
       "    }\n",
       "</style>\n",
       "<table border=\"1\" class=\"dataframe\">\n",
       "  <thead>\n",
       "    <tr style=\"text-align: right;\">\n",
       "      <th></th>\n",
       "      <th>Name</th>\n",
       "      <th>Location</th>\n",
       "      <th>Year</th>\n",
       "      <th>Kilometers_Driven</th>\n",
       "      <th>Fuel_Type</th>\n",
       "      <th>Transmission</th>\n",
       "      <th>Owner_Type</th>\n",
       "      <th>Mileage</th>\n",
       "      <th>Engine</th>\n",
       "      <th>Power</th>\n",
       "      <th>Seats</th>\n",
       "    </tr>\n",
       "  </thead>\n",
       "  <tbody>\n",
       "    <tr>\n",
       "      <th>0</th>\n",
       "      <td>Maruti Alto K10 LXI CNG</td>\n",
       "      <td>Delhi</td>\n",
       "      <td>2014</td>\n",
       "      <td>40929</td>\n",
       "      <td>CNG</td>\n",
       "      <td>Manual</td>\n",
       "      <td>First</td>\n",
       "      <td>32.26 km/kg</td>\n",
       "      <td>998 CC</td>\n",
       "      <td>58.2 bhp</td>\n",
       "      <td>4.0</td>\n",
       "    </tr>\n",
       "    <tr>\n",
       "      <th>1</th>\n",
       "      <td>Maruti Alto 800 2016-2019 LXI</td>\n",
       "      <td>Coimbatore</td>\n",
       "      <td>2013</td>\n",
       "      <td>54493</td>\n",
       "      <td>Petrol</td>\n",
       "      <td>Manual</td>\n",
       "      <td>Second</td>\n",
       "      <td>24.7 kmpl</td>\n",
       "      <td>796 CC</td>\n",
       "      <td>47.3 bhp</td>\n",
       "      <td>5.0</td>\n",
       "    </tr>\n",
       "    <tr>\n",
       "      <th>2</th>\n",
       "      <td>Toyota Innova Crysta Touring Sport 2.4 MT</td>\n",
       "      <td>Mumbai</td>\n",
       "      <td>2017</td>\n",
       "      <td>34000</td>\n",
       "      <td>Diesel</td>\n",
       "      <td>Manual</td>\n",
       "      <td>First</td>\n",
       "      <td>13.68 kmpl</td>\n",
       "      <td>2393 CC</td>\n",
       "      <td>147.8 bhp</td>\n",
       "      <td>7.0</td>\n",
       "    </tr>\n",
       "    <tr>\n",
       "      <th>3</th>\n",
       "      <td>Toyota Etios Liva GD</td>\n",
       "      <td>Hyderabad</td>\n",
       "      <td>2012</td>\n",
       "      <td>139000</td>\n",
       "      <td>Diesel</td>\n",
       "      <td>Manual</td>\n",
       "      <td>First</td>\n",
       "      <td>23.59 kmpl</td>\n",
       "      <td>1364 CC</td>\n",
       "      <td>null bhp</td>\n",
       "      <td>5.0</td>\n",
       "    </tr>\n",
       "    <tr>\n",
       "      <th>4</th>\n",
       "      <td>Hyundai i20 Magna</td>\n",
       "      <td>Mumbai</td>\n",
       "      <td>2014</td>\n",
       "      <td>29000</td>\n",
       "      <td>Petrol</td>\n",
       "      <td>Manual</td>\n",
       "      <td>First</td>\n",
       "      <td>18.5 kmpl</td>\n",
       "      <td>1197 CC</td>\n",
       "      <td>82.85 bhp</td>\n",
       "      <td>5.0</td>\n",
       "    </tr>\n",
       "  </tbody>\n",
       "</table>\n",
       "</div>"
      ],
      "text/plain": [
       "                                        Name    Location  Year  \\\n",
       "0                    Maruti Alto K10 LXI CNG       Delhi  2014   \n",
       "1              Maruti Alto 800 2016-2019 LXI  Coimbatore  2013   \n",
       "2  Toyota Innova Crysta Touring Sport 2.4 MT      Mumbai  2017   \n",
       "3                       Toyota Etios Liva GD   Hyderabad  2012   \n",
       "4                          Hyundai i20 Magna      Mumbai  2014   \n",
       "\n",
       "   Kilometers_Driven Fuel_Type Transmission Owner_Type      Mileage   Engine  \\\n",
       "0              40929       CNG       Manual      First  32.26 km/kg   998 CC   \n",
       "1              54493    Petrol       Manual     Second    24.7 kmpl   796 CC   \n",
       "2              34000    Diesel       Manual      First   13.68 kmpl  2393 CC   \n",
       "3             139000    Diesel       Manual      First   23.59 kmpl  1364 CC   \n",
       "4              29000    Petrol       Manual      First    18.5 kmpl  1197 CC   \n",
       "\n",
       "       Power  Seats  \n",
       "0   58.2 bhp    4.0  \n",
       "1   47.3 bhp    5.0  \n",
       "2  147.8 bhp    7.0  \n",
       "3   null bhp    5.0  \n",
       "4  82.85 bhp    5.0  "
      ]
     },
     "execution_count": 402,
     "metadata": {},
     "output_type": "execute_result"
    }
   ],
   "source": [
    "df=pd.read_excel(\"Data_Test (1).xlsx\")\n",
    "df.head()"
   ]
  },
  {
   "cell_type": "code",
   "execution_count": 403,
   "metadata": {},
   "outputs": [
    {
     "data": {
      "text/plain": [
       "Name                  0\n",
       "Location              0\n",
       "Year                  0\n",
       "Kilometers_Driven     0\n",
       "Fuel_Type             0\n",
       "Transmission          0\n",
       "Owner_Type            0\n",
       "Mileage               0\n",
       "Engine               10\n",
       "Power                10\n",
       "Seats                11\n",
       "dtype: int64"
      ]
     },
     "execution_count": 403,
     "metadata": {},
     "output_type": "execute_result"
    }
   ],
   "source": [
    "df.isnull().sum()"
   ]
  },
  {
   "cell_type": "code",
   "execution_count": 416,
   "metadata": {},
   "outputs": [],
   "source": [
    "x1=df.drop(['Name','Seats','Location','Fuel_Type','Transmission','Owner_Type','Mileage'],axis=1)\n",
    "x1['Engine'] = x1['Engine'].apply(lambda x : str(x).split(\" \")[0]).astype(float)\n",
    "x1['Power'] = x1['Power'].replace('null bhp','0 bhp').apply(lambda x : str(x).split(' ')[0]).astype(float)"
   ]
  },
  {
   "cell_type": "code",
   "execution_count": 433,
   "metadata": {},
   "outputs": [],
   "source": [
    "x1.Engine=x1.Engine.fillna(x1.Engine.median())\n",
    "x1.Power=x1.Power.fillna(x1.Power.median())\n",
    "pr=regr2.predict(x1)"
   ]
  },
  {
   "cell_type": "code",
   "execution_count": 420,
   "metadata": {},
   "outputs": [
    {
     "data": {
      "text/plain": [
       "array([ 3.3484    ,  2.0342    , 17.8982    , ...,  2.9963    ,\n",
       "        4.4282    , 18.44353333])"
      ]
     },
     "execution_count": 420,
     "metadata": {},
     "output_type": "execute_result"
    }
   ],
   "source": [
    "pr"
   ]
  },
  {
   "cell_type": "code",
   "execution_count": 424,
   "metadata": {},
   "outputs": [
    {
     "data": {
      "text/plain": [
       "<function ndarray.tolist>"
      ]
     },
     "execution_count": 424,
     "metadata": {},
     "output_type": "execute_result"
    }
   ],
   "source": [
    "pr.tolist"
   ]
  },
  {
   "cell_type": "code",
   "execution_count": 430,
   "metadata": {},
   "outputs": [],
   "source": [
    "from pandas import ExcelWriter\n",
    "from pandas import ExcelFile\n",
    "pr=pd.DataFrame(pr)\n",
    "pr.to_excel(\"pred.xlsx\")"
   ]
  }
 ],
 "metadata": {
  "kernelspec": {
   "display_name": "Python 3",
   "language": "python",
   "name": "python3"
  },
  "language_info": {
   "codemirror_mode": {
    "name": "ipython",
    "version": 3
   },
   "file_extension": ".py",
   "mimetype": "text/x-python",
   "name": "python",
   "nbconvert_exporter": "python",
   "pygments_lexer": "ipython3",
   "version": "3.7.6"
  }
 },
 "nbformat": 4,
 "nbformat_minor": 4
}
